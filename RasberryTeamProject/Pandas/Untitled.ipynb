{
 "cells": [
  {
   "cell_type": "code",
   "execution_count": 45,
   "metadata": {},
   "outputs": [],
   "source": [
    "import pandas as pd\n",
    "import datetime\n",
    "from flask import Flask, request, Response\n",
    "from flask_cors import CORS\n",
    "from IPython.display import display"
   ]
  },
  {
   "cell_type": "code",
   "execution_count": 44,
   "metadata": {
    "scrolled": true
   },
   "outputs": [
    {
     "name": "stdout",
     "output_type": "stream",
     "text": [
      "Requirement already satisfied: flask_cors in c:\\users\\bitcamp2\\anaconda3\\lib\\site-packages (3.0.8)\n",
      "Requirement already satisfied: Flask>=0.9 in c:\\users\\bitcamp2\\anaconda3\\lib\\site-packages (from flask_cors) (1.1.1)\n",
      "Requirement already satisfied: Six in c:\\users\\bitcamp2\\anaconda3\\lib\\site-packages (from flask_cors) (1.12.0)\n",
      "Requirement already satisfied: Werkzeug>=0.15 in c:\\users\\bitcamp2\\anaconda3\\lib\\site-packages (from Flask>=0.9->flask_cors) (0.16.0)\n",
      "Requirement already satisfied: Jinja2>=2.10.1 in c:\\users\\bitcamp2\\anaconda3\\lib\\site-packages (from Flask>=0.9->flask_cors) (2.10.3)\n",
      "Requirement already satisfied: click>=5.1 in c:\\users\\bitcamp2\\anaconda3\\lib\\site-packages (from Flask>=0.9->flask_cors) (7.0)\n",
      "Requirement already satisfied: itsdangerous>=0.24 in c:\\users\\bitcamp2\\anaconda3\\lib\\site-packages (from Flask>=0.9->flask_cors) (1.1.0)\n",
      "Requirement already satisfied: MarkupSafe>=0.23 in c:\\users\\bitcamp2\\anaconda3\\lib\\site-packages (from Jinja2>=2.10.1->Flask>=0.9->flask_cors) (1.1.1)\n",
      "Note: you may need to restart the kernel to use updated packages.\n"
     ]
    }
   ],
   "source": [
    "pip install flask_cors"
   ]
  },
  {
   "cell_type": "code",
   "execution_count": 46,
   "metadata": {
    "scrolled": false
   },
   "outputs": [
    {
     "data": {
      "text/html": [
       "<div>\n",
       "<style scoped>\n",
       "    .dataframe tbody tr th:only-of-type {\n",
       "        vertical-align: middle;\n",
       "    }\n",
       "\n",
       "    .dataframe tbody tr th {\n",
       "        vertical-align: top;\n",
       "    }\n",
       "\n",
       "    .dataframe thead th {\n",
       "        text-align: right;\n",
       "    }\n",
       "</style>\n",
       "<table border=\"1\" class=\"dataframe\">\n",
       "  <thead>\n",
       "    <tr style=\"text-align: right;\">\n",
       "      <th></th>\n",
       "      <th>Date</th>\n",
       "      <th>Time</th>\n",
       "      <th>LogLevel</th>\n",
       "      <th>ProcessID</th>\n",
       "      <th>Message</th>\n",
       "      <th></th>\n",
       "    </tr>\n",
       "  </thead>\n",
       "  <tbody>\n",
       "    <tr>\n",
       "      <td>0</td>\n",
       "      <td>2020-03-11</td>\n",
       "      <td>11:21:41,076</td>\n",
       "      <td>INFO</td>\n",
       "      <td>2902</td>\n",
       "      <td>지문</td>\n",
       "      <td>일치</td>\n",
       "    </tr>\n",
       "    <tr>\n",
       "      <td>1</td>\n",
       "      <td>2020-03-11</td>\n",
       "      <td>11:21:41,077</td>\n",
       "      <td>WARNING</td>\n",
       "      <td>2902</td>\n",
       "      <td>지문</td>\n",
       "      <td>비일치</td>\n",
       "    </tr>\n",
       "    <tr>\n",
       "      <td>2</td>\n",
       "      <td>2020-03-11</td>\n",
       "      <td>11:21:42,426</td>\n",
       "      <td>INFO</td>\n",
       "      <td>2912</td>\n",
       "      <td>지문</td>\n",
       "      <td>일치</td>\n",
       "    </tr>\n",
       "    <tr>\n",
       "      <td>3</td>\n",
       "      <td>2020-03-11</td>\n",
       "      <td>11:21:42,427</td>\n",
       "      <td>WARNING</td>\n",
       "      <td>2912</td>\n",
       "      <td>지문</td>\n",
       "      <td>비일치</td>\n",
       "    </tr>\n",
       "    <tr>\n",
       "      <td>4</td>\n",
       "      <td>2020-03-11</td>\n",
       "      <td>11:25:28,653</td>\n",
       "      <td>INFO</td>\n",
       "      <td>3496</td>\n",
       "      <td>match</td>\n",
       "      <td></td>\n",
       "    </tr>\n",
       "    <tr>\n",
       "      <td>...</td>\n",
       "      <td>...</td>\n",
       "      <td>...</td>\n",
       "      <td>...</td>\n",
       "      <td>...</td>\n",
       "      <td>...</td>\n",
       "      <td>...</td>\n",
       "    </tr>\n",
       "    <tr>\n",
       "      <td>113</td>\n",
       "      <td>2020-03-11</td>\n",
       "      <td>17:36:54,895</td>\n",
       "      <td>WARNING</td>\n",
       "      <td>2067</td>\n",
       "      <td>no</td>\n",
       "      <td>match</td>\n",
       "    </tr>\n",
       "    <tr>\n",
       "      <td>114</td>\n",
       "      <td>2020-03-11</td>\n",
       "      <td>17:49:10,771</td>\n",
       "      <td>INFO</td>\n",
       "      <td>2152</td>\n",
       "      <td>match</td>\n",
       "      <td></td>\n",
       "    </tr>\n",
       "    <tr>\n",
       "      <td>115</td>\n",
       "      <td>2020-03-11</td>\n",
       "      <td>17:49:10,772</td>\n",
       "      <td>WARNING</td>\n",
       "      <td>2152</td>\n",
       "      <td>no</td>\n",
       "      <td>match</td>\n",
       "    </tr>\n",
       "    <tr>\n",
       "      <td>116</td>\n",
       "      <td>2020-03-11</td>\n",
       "      <td>18:16:42,443</td>\n",
       "      <td>INFO</td>\n",
       "      <td>2331</td>\n",
       "      <td>match</td>\n",
       "      <td></td>\n",
       "    </tr>\n",
       "    <tr>\n",
       "      <td>117</td>\n",
       "      <td>2020-03-11</td>\n",
       "      <td>18:16:42,444</td>\n",
       "      <td>WARNING</td>\n",
       "      <td>2331</td>\n",
       "      <td>no</td>\n",
       "      <td>match</td>\n",
       "    </tr>\n",
       "  </tbody>\n",
       "</table>\n",
       "<p>118 rows × 6 columns</p>\n",
       "</div>"
      ],
      "text/plain": [
       "           Date          Time LogLevel  ProcessID Message       \n",
       "0    2020-03-11  11:21:41,076     INFO       2902      지문     일치\n",
       "1    2020-03-11  11:21:41,077  WARNING       2902      지문    비일치\n",
       "2    2020-03-11  11:21:42,426     INFO       2912      지문     일치\n",
       "3    2020-03-11  11:21:42,427  WARNING       2912      지문    비일치\n",
       "4    2020-03-11  11:25:28,653     INFO       3496   match       \n",
       "..          ...           ...      ...        ...     ...    ...\n",
       "113  2020-03-11  17:36:54,895  WARNING       2067      no  match\n",
       "114  2020-03-11  17:49:10,771     INFO       2152   match       \n",
       "115  2020-03-11  17:49:10,772  WARNING       2152      no  match\n",
       "116  2020-03-11  18:16:42,443     INFO       2331   match       \n",
       "117  2020-03-11  18:16:42,444  WARNING       2331      no  match\n",
       "\n",
       "[118 rows x 6 columns]"
      ]
     },
     "execution_count": 46,
     "metadata": {},
     "output_type": "execute_result"
    }
   ],
   "source": [
    "df = pd.read_csv(\"2020-03-11.log\", sep=' ', \\\n",
    "                 names=['Date', 'Time','LogLevel', 'ProcessID', 'Message', ''], \\\n",
    "                 header=None)\n",
    "df.fillna('')"
   ]
  },
  {
   "cell_type": "code",
   "execution_count": 40,
   "metadata": {},
   "outputs": [
    {
     "data": {
      "text/plain": [
       "'<table border=\"1\" class=\"dataframe\">\\n  <thead>\\n    <tr style=\"text-align: right;\">\\n      <th></th>\\n      <th>Date</th>\\n      <th>Time</th>\\n      <th>LogLevel</th>\\n      <th>ProcessID</th>\\n      <th>Message</th>\\n      <th></th>\\n    </tr>\\n  </thead>\\n  <tbody>\\n    <tr>\\n      <th>0</th>\\n      <td>2020-03-11</td>\\n      <td>11:21:41,076</td>\\n      <td>INFO</td>\\n      <td>2902</td>\\n      <td>지문</td>\\n      <td>일치</td>\\n    </tr>\\n    <tr>\\n      <th>1</th>\\n      <td>2020-03-11</td>\\n      <td>11:21:41,077</td>\\n      <td>WARNING</td>\\n      <td>2902</td>\\n      <td>지문</td>\\n      <td>비일치</td>\\n    </tr>\\n    <tr>\\n      <th>2</th>\\n      <td>2020-03-11</td>\\n      <td>11:21:42,426</td>\\n      <td>INFO</td>\\n      <td>2912</td>\\n      <td>지문</td>\\n      <td>일치</td>\\n    </tr>\\n    <tr>\\n      <th>3</th>\\n      <td>2020-03-11</td>\\n      <td>11:21:42,427</td>\\n      <td>WARNING</td>\\n      <td>2912</td>\\n      <td>지문</td>\\n      <td>비일치</td>\\n    </tr>\\n    <tr>\\n      <th>4</th>\\n      <td>2020-03-11</td>\\n      <td>11:25:28,653</td>\\n      <td>INFO</td>\\n      <td>3496</td>\\n      <td>match</td>\\n      <td>NaN</td>\\n    </tr>\\n    <tr>\\n      <th>5</th>\\n      <td>2020-03-11</td>\\n      <td>11:25:28,655</td>\\n      <td>WARNING</td>\\n      <td>3496</td>\\n      <td>no</td>\\n      <td>match</td>\\n    </tr>\\n    <tr>\\n      <th>6</th>\\n      <td>2020-03-11</td>\\n      <td>11:25:29,973</td>\\n      <td>INFO</td>\\n      <td>3504</td>\\n      <td>match</td>\\n      <td>NaN</td>\\n    </tr>\\n    <tr>\\n      <th>7</th>\\n      <td>2020-03-11</td>\\n      <td>11:25:29,973</td>\\n      <td>WARNING</td>\\n      <td>3504</td>\\n      <td>no</td>\\n      <td>match</td>\\n    </tr>\\n    <tr>\\n      <th>8</th>\\n      <td>2020-03-11</td>\\n      <td>11:33:21,404</td>\\n      <td>INFO</td>\\n      <td>3777</td>\\n      <td>match</td>\\n      <td>NaN</td>\\n    </tr>\\n    <tr>\\n      <th>9</th>\\n      <td>2020-03-11</td>\\n      <td>11:33:21,405</td>\\n      <td>WARNING</td>\\n      <td>3777</td>\\n      <td>no</td>\\n      <td>match</td>\\n    </tr>\\n    <tr>\\n      <th>10</th>\\n      <td>2020-03-11</td>\\n      <td>11:33:49,314</td>\\n      <td>INFO</td>\\n      <td>3796</td>\\n      <td>match</td>\\n      <td>NaN</td>\\n    </tr>\\n    <tr>\\n      <th>11</th>\\n      <td>2020-03-11</td>\\n      <td>11:33:49,315</td>\\n      <td>WARNING</td>\\n      <td>3796</td>\\n      <td>no</td>\\n      <td>match</td>\\n    </tr>\\n    <tr>\\n      <th>12</th>\\n      <td>2020-03-11</td>\\n      <td>11:35:13,660</td>\\n      <td>INFO</td>\\n      <td>3843</td>\\n      <td>match</td>\\n      <td>NaN</td>\\n    </tr>\\n    <tr>\\n      <th>13</th>\\n      <td>2020-03-11</td>\\n      <td>11:35:13,661</td>\\n      <td>WARNING</td>\\n      <td>3843</td>\\n      <td>no</td>\\n      <td>match</td>\\n    </tr>\\n    <tr>\\n      <th>14</th>\\n      <td>2020-03-11</td>\\n      <td>11:36:56,204</td>\\n      <td>INFO</td>\\n      <td>3883</td>\\n      <td>match</td>\\n      <td>NaN</td>\\n    </tr>\\n    <tr>\\n      <th>15</th>\\n      <td>2020-03-11</td>\\n      <td>11:36:56,205</td>\\n      <td>WARNING</td>\\n      <td>3883</td>\\n      <td>no</td>\\n      <td>match</td>\\n    </tr>\\n    <tr>\\n      <th>16</th>\\n      <td>2020-03-11</td>\\n      <td>11:37:04,725</td>\\n      <td>INFO</td>\\n      <td>3898</td>\\n      <td>match</td>\\n      <td>NaN</td>\\n    </tr>\\n    <tr>\\n      <th>17</th>\\n      <td>2020-03-11</td>\\n      <td>11:37:04,726</td>\\n      <td>WARNING</td>\\n      <td>3898</td>\\n      <td>no</td>\\n      <td>match</td>\\n    </tr>\\n    <tr>\\n      <th>18</th>\\n      <td>2020-03-11</td>\\n      <td>11:37:30,267</td>\\n      <td>INFO</td>\\n      <td>3915</td>\\n      <td>match</td>\\n      <td>NaN</td>\\n    </tr>\\n    <tr>\\n      <th>19</th>\\n      <td>2020-03-11</td>\\n      <td>11:37:30,268</td>\\n      <td>WARNING</td>\\n      <td>3915</td>\\n      <td>no</td>\\n      <td>match</td>\\n    </tr>\\n    <tr>\\n      <th>20</th>\\n      <td>2020-03-11</td>\\n      <td>11:38:35,901</td>\\n      <td>INFO</td>\\n      <td>3935</td>\\n      <td>match</td>\\n      <td>NaN</td>\\n    </tr>\\n    <tr>\\n      <th>21</th>\\n      <td>2020-03-11</td>\\n      <td>11:38:35,902</td>\\n      <td>WARNING</td>\\n      <td>3935</td>\\n      <td>no</td>\\n      <td>match</td>\\n    </tr>\\n    <tr>\\n      <th>22</th>\\n      <td>2020-03-11</td>\\n      <td>11:40:47,605</td>\\n      <td>INFO</td>\\n      <td>3953</td>\\n      <td>match</td>\\n      <td>NaN</td>\\n    </tr>\\n    <tr>\\n      <th>23</th>\\n      <td>2020-03-11</td>\\n      <td>11:40:47,607</td>\\n      <td>WARNING</td>\\n      <td>3953</td>\\n      <td>no</td>\\n      <td>match</td>\\n    </tr>\\n    <tr>\\n      <th>24</th>\\n      <td>2020-03-11</td>\\n      <td>11:41:00,597</td>\\n      <td>INFO</td>\\n      <td>3970</td>\\n      <td>match</td>\\n      <td>NaN</td>\\n    </tr>\\n    <tr>\\n      <th>25</th>\\n      <td>2020-03-11</td>\\n      <td>11:41:00,597</td>\\n      <td>WARNING</td>\\n      <td>3970</td>\\n      <td>no</td>\\n      <td>match</td>\\n    </tr>\\n    <tr>\\n      <th>26</th>\\n      <td>2020-03-11</td>\\n      <td>12:34:16,736</td>\\n      <td>INFO</td>\\n      <td>4077</td>\\n      <td>match</td>\\n      <td>NaN</td>\\n    </tr>\\n    <tr>\\n      <th>27</th>\\n      <td>2020-03-11</td>\\n      <td>12:34:16,736</td>\\n      <td>WARNING</td>\\n      <td>4077</td>\\n      <td>no</td>\\n      <td>match</td>\\n    </tr>\\n    <tr>\\n      <th>28</th>\\n      <td>2020-03-11</td>\\n      <td>12:38:26,044</td>\\n      <td>INFO</td>\\n      <td>4233</td>\\n      <td>match</td>\\n      <td>NaN</td>\\n    </tr>\\n    <tr>\\n      <th>29</th>\\n      <td>2020-03-11</td>\\n      <td>12:38:26,045</td>\\n      <td>WARNING</td>\\n      <td>4233</td>\\n      <td>no</td>\\n      <td>match</td>\\n    </tr>\\n    <tr>\\n      <th>30</th>\\n      <td>2020-03-11</td>\\n      <td>12:38:39,006</td>\\n      <td>INFO</td>\\n      <td>4252</td>\\n      <td>match</td>\\n      <td>NaN</td>\\n    </tr>\\n    <tr>\\n      <th>31</th>\\n      <td>2020-03-11</td>\\n      <td>12:38:39,006</td>\\n      <td>WARNING</td>\\n      <td>4252</td>\\n      <td>no</td>\\n      <td>match</td>\\n    </tr>\\n    <tr>\\n      <th>32</th>\\n      <td>2020-03-11</td>\\n      <td>12:38:46,820</td>\\n      <td>INFO</td>\\n      <td>4265</td>\\n      <td>match</td>\\n      <td>NaN</td>\\n    </tr>\\n    <tr>\\n      <th>33</th>\\n      <td>2020-03-11</td>\\n      <td>12:38:46,822</td>\\n      <td>WARNING</td>\\n      <td>4265</td>\\n      <td>no</td>\\n      <td>match</td>\\n    </tr>\\n    <tr>\\n      <th>34</th>\\n      <td>2020-03-11</td>\\n      <td>12:40:09,138</td>\\n      <td>INFO</td>\\n      <td>4288</td>\\n      <td>match</td>\\n      <td>NaN</td>\\n    </tr>\\n    <tr>\\n      <th>35</th>\\n      <td>2020-03-11</td>\\n      <td>12:40:09,139</td>\\n      <td>WARNING</td>\\n      <td>4288</td>\\n      <td>no</td>\\n      <td>match</td>\\n    </tr>\\n    <tr>\\n      <th>36</th>\\n      <td>2020-03-11</td>\\n      <td>12:43:20,806</td>\\n      <td>INFO</td>\\n      <td>4323</td>\\n      <td>match</td>\\n      <td>NaN</td>\\n    </tr>\\n    <tr>\\n      <th>37</th>\\n      <td>2020-03-11</td>\\n      <td>12:43:20,806</td>\\n      <td>WARNING</td>\\n      <td>4323</td>\\n      <td>no</td>\\n      <td>match</td>\\n    </tr>\\n    <tr>\\n      <th>38</th>\\n      <td>2020-03-11</td>\\n      <td>12:58:13,384</td>\\n      <td>INFO</td>\\n      <td>1526</td>\\n      <td>match</td>\\n      <td>NaN</td>\\n    </tr>\\n    <tr>\\n      <th>39</th>\\n      <td>2020-03-11</td>\\n      <td>12:58:13,385</td>\\n      <td>WARNING</td>\\n      <td>1526</td>\\n      <td>no</td>\\n      <td>match</td>\\n    </tr>\\n    <tr>\\n      <th>40</th>\\n      <td>2020-03-11</td>\\n      <td>12:58:27,802</td>\\n      <td>INFO</td>\\n      <td>1542</td>\\n      <td>match</td>\\n      <td>NaN</td>\\n    </tr>\\n    <tr>\\n      <th>41</th>\\n      <td>2020-03-11</td>\\n      <td>12:58:27,802</td>\\n      <td>WARNING</td>\\n      <td>1542</td>\\n      <td>no</td>\\n      <td>match</td>\\n    </tr>\\n    <tr>\\n      <th>42</th>\\n      <td>2020-03-11</td>\\n      <td>12:59:02,553</td>\\n      <td>INFO</td>\\n      <td>1556</td>\\n      <td>match</td>\\n      <td>NaN</td>\\n    </tr>\\n    <tr>\\n      <th>43</th>\\n      <td>2020-03-11</td>\\n      <td>12:59:02,554</td>\\n      <td>WARNING</td>\\n      <td>1556</td>\\n      <td>no</td>\\n      <td>match</td>\\n    </tr>\\n    <tr>\\n      <th>44</th>\\n      <td>2020-03-11</td>\\n      <td>12:59:13,220</td>\\n      <td>INFO</td>\\n      <td>1570</td>\\n      <td>match</td>\\n      <td>NaN</td>\\n    </tr>\\n    <tr>\\n      <th>45</th>\\n      <td>2020-03-11</td>\\n      <td>12:59:13,221</td>\\n      <td>WARNING</td>\\n      <td>1570</td>\\n      <td>no</td>\\n      <td>match</td>\\n    </tr>\\n    <tr>\\n      <th>46</th>\\n      <td>2020-03-11</td>\\n      <td>13:22:06,613</td>\\n      <td>INFO</td>\\n      <td>12502</td>\\n      <td>match</td>\\n      <td>NaN</td>\\n    </tr>\\n    <tr>\\n      <th>47</th>\\n      <td>2020-03-11</td>\\n      <td>13:22:06,618</td>\\n      <td>WARNING</td>\\n      <td>12502</td>\\n      <td>no</td>\\n      <td>match</td>\\n    </tr>\\n    <tr>\\n      <th>48</th>\\n      <td>2020-03-11</td>\\n      <td>13:30:46,070</td>\\n      <td>INFO</td>\\n      <td>12581</td>\\n      <td>match</td>\\n      <td>NaN</td>\\n    </tr>\\n    <tr>\\n      <th>49</th>\\n      <td>2020-03-11</td>\\n      <td>13:30:46,071</td>\\n      <td>WARNING</td>\\n      <td>12581</td>\\n      <td>no</td>\\n      <td>match</td>\\n    </tr>\\n    <tr>\\n      <th>50</th>\\n      <td>2020-03-11</td>\\n      <td>13:31:05,983</td>\\n      <td>INFO</td>\\n      <td>12600</td>\\n      <td>match</td>\\n      <td>NaN</td>\\n    </tr>\\n    <tr>\\n      <th>51</th>\\n      <td>2020-03-11</td>\\n      <td>13:31:05,983</td>\\n      <td>WARNING</td>\\n      <td>12600</td>\\n      <td>no</td>\\n      <td>match</td>\\n    </tr>\\n    <tr>\\n      <th>52</th>\\n      <td>2020-03-11</td>\\n      <td>13:33:38,012</td>\\n      <td>INFO</td>\\n      <td>12696</td>\\n      <td>match</td>\\n      <td>NaN</td>\\n    </tr>\\n    <tr>\\n      <th>53</th>\\n      <td>2020-03-11</td>\\n      <td>13:33:38,014</td>\\n      <td>WARNING</td>\\n      <td>12696</td>\\n      <td>no</td>\\n      <td>match</td>\\n    </tr>\\n    <tr>\\n      <th>54</th>\\n      <td>2020-03-11</td>\\n      <td>13:33:50,751</td>\\n      <td>INFO</td>\\n      <td>12711</td>\\n      <td>match</td>\\n      <td>NaN</td>\\n    </tr>\\n    <tr>\\n      <th>55</th>\\n      <td>2020-03-11</td>\\n      <td>13:33:50,752</td>\\n      <td>WARNING</td>\\n      <td>12711</td>\\n      <td>no</td>\\n      <td>match</td>\\n    </tr>\\n    <tr>\\n      <th>56</th>\\n      <td>2020-03-11</td>\\n      <td>13:35:57,617</td>\\n      <td>INFO</td>\\n      <td>12744</td>\\n      <td>match</td>\\n      <td>NaN</td>\\n    </tr>\\n    <tr>\\n      <th>57</th>\\n      <td>2020-03-11</td>\\n      <td>13:35:57,617</td>\\n      <td>WARNING</td>\\n      <td>12744</td>\\n      <td>no</td>\\n      <td>match</td>\\n    </tr>\\n    <tr>\\n      <th>58</th>\\n      <td>2020-03-11</td>\\n      <td>13:40:13,669</td>\\n      <td>INFO</td>\\n      <td>12798</td>\\n      <td>match</td>\\n      <td>NaN</td>\\n    </tr>\\n    <tr>\\n      <th>59</th>\\n      <td>2020-03-11</td>\\n      <td>13:40:13,671</td>\\n      <td>WARNING</td>\\n      <td>12798</td>\\n      <td>no</td>\\n      <td>match</td>\\n    </tr>\\n    <tr>\\n      <th>60</th>\\n      <td>2020-03-11</td>\\n      <td>13:42:01,334</td>\\n      <td>INFO</td>\\n      <td>12839</td>\\n      <td>match</td>\\n      <td>NaN</td>\\n    </tr>\\n    <tr>\\n      <th>61</th>\\n      <td>2020-03-11</td>\\n      <td>13:42:01,335</td>\\n      <td>WARNING</td>\\n      <td>12839</td>\\n      <td>no</td>\\n      <td>match</td>\\n    </tr>\\n    <tr>\\n      <th>62</th>\\n      <td>2020-03-11</td>\\n      <td>13:46:41,431</td>\\n      <td>INFO</td>\\n      <td>12917</td>\\n      <td>match</td>\\n      <td>NaN</td>\\n    </tr>\\n    <tr>\\n      <th>63</th>\\n      <td>2020-03-11</td>\\n      <td>13:46:41,432</td>\\n      <td>WARNING</td>\\n      <td>12917</td>\\n      <td>no</td>\\n      <td>match</td>\\n    </tr>\\n    <tr>\\n      <th>64</th>\\n      <td>2020-03-11</td>\\n      <td>13:46:59,150</td>\\n      <td>INFO</td>\\n      <td>12936</td>\\n      <td>match</td>\\n      <td>NaN</td>\\n    </tr>\\n    <tr>\\n      <th>65</th>\\n      <td>2020-03-11</td>\\n      <td>13:46:59,150</td>\\n      <td>WARNING</td>\\n      <td>12936</td>\\n      <td>no</td>\\n      <td>match</td>\\n    </tr>\\n    <tr>\\n      <th>66</th>\\n      <td>2020-03-11</td>\\n      <td>13:51:24,333</td>\\n      <td>INFO</td>\\n      <td>12994</td>\\n      <td>match</td>\\n      <td>NaN</td>\\n    </tr>\\n    <tr>\\n      <th>67</th>\\n      <td>2020-03-11</td>\\n      <td>13:51:24,334</td>\\n      <td>WARNING</td>\\n      <td>12994</td>\\n      <td>no</td>\\n      <td>match</td>\\n    </tr>\\n    <tr>\\n      <th>68</th>\\n      <td>2020-03-11</td>\\n      <td>13:52:41,946</td>\\n      <td>INFO</td>\\n      <td>13030</td>\\n      <td>match</td>\\n      <td>NaN</td>\\n    </tr>\\n    <tr>\\n      <th>69</th>\\n      <td>2020-03-11</td>\\n      <td>13:52:41,947</td>\\n      <td>WARNING</td>\\n      <td>13030</td>\\n      <td>no</td>\\n      <td>match</td>\\n    </tr>\\n    <tr>\\n      <th>70</th>\\n      <td>2020-03-11</td>\\n      <td>14:10:28,575</td>\\n      <td>INFO</td>\\n      <td>13128</td>\\n      <td>match</td>\\n      <td>NaN</td>\\n    </tr>\\n    <tr>\\n      <th>71</th>\\n      <td>2020-03-11</td>\\n      <td>14:10:28,576</td>\\n      <td>WARNING</td>\\n      <td>13128</td>\\n      <td>no</td>\\n      <td>match</td>\\n    </tr>\\n    <tr>\\n      <th>72</th>\\n      <td>2020-03-11</td>\\n      <td>14:12:51,432</td>\\n      <td>INFO</td>\\n      <td>13165</td>\\n      <td>match</td>\\n      <td>NaN</td>\\n    </tr>\\n    <tr>\\n      <th>73</th>\\n      <td>2020-03-11</td>\\n      <td>14:12:51,432</td>\\n      <td>WARNING</td>\\n      <td>13165</td>\\n      <td>no</td>\\n      <td>match</td>\\n    </tr>\\n    <tr>\\n      <th>74</th>\\n      <td>2020-03-11</td>\\n      <td>14:14:02,210</td>\\n      <td>INFO</td>\\n      <td>13189</td>\\n      <td>match</td>\\n      <td>NaN</td>\\n    </tr>\\n    <tr>\\n      <th>75</th>\\n      <td>2020-03-11</td>\\n      <td>14:14:02,211</td>\\n      <td>WARNING</td>\\n      <td>13189</td>\\n      <td>no</td>\\n      <td>match</td>\\n    </tr>\\n    <tr>\\n      <th>76</th>\\n      <td>2020-03-11</td>\\n      <td>14:14:22,028</td>\\n      <td>INFO</td>\\n      <td>13209</td>\\n      <td>match</td>\\n      <td>NaN</td>\\n    </tr>\\n    <tr>\\n      <th>77</th>\\n      <td>2020-03-11</td>\\n      <td>14:14:22,029</td>\\n      <td>WARNING</td>\\n      <td>13209</td>\\n      <td>no</td>\\n      <td>match</td>\\n    </tr>\\n    <tr>\\n      <th>78</th>\\n      <td>2020-03-11</td>\\n      <td>15:01:27,028</td>\\n      <td>INFO</td>\\n      <td>1747</td>\\n      <td>match</td>\\n      <td>NaN</td>\\n    </tr>\\n    <tr>\\n      <th>79</th>\\n      <td>2020-03-11</td>\\n      <td>15:01:27,029</td>\\n      <td>WARNING</td>\\n      <td>1747</td>\\n      <td>no</td>\\n      <td>match</td>\\n    </tr>\\n    <tr>\\n      <th>80</th>\\n      <td>2020-03-11</td>\\n      <td>15:17:29,431</td>\\n      <td>INFO</td>\\n      <td>1949</td>\\n      <td>match</td>\\n      <td>NaN</td>\\n    </tr>\\n    <tr>\\n      <th>81</th>\\n      <td>2020-03-11</td>\\n      <td>15:17:29,431</td>\\n      <td>WARNING</td>\\n      <td>1949</td>\\n      <td>no</td>\\n      <td>match</td>\\n    </tr>\\n    <tr>\\n      <th>82</th>\\n      <td>2020-03-11</td>\\n      <td>15:23:02,375</td>\\n      <td>INFO</td>\\n      <td>1617</td>\\n      <td>match</td>\\n      <td>NaN</td>\\n    </tr>\\n    <tr>\\n      <th>83</th>\\n      <td>2020-03-11</td>\\n      <td>15:23:02,377</td>\\n      <td>WARNING</td>\\n      <td>1617</td>\\n      <td>no</td>\\n      <td>match</td>\\n    </tr>\\n    <tr>\\n      <th>84</th>\\n      <td>2020-03-11</td>\\n      <td>15:23:20,768</td>\\n      <td>INFO</td>\\n      <td>1633</td>\\n      <td>match</td>\\n      <td>NaN</td>\\n    </tr>\\n    <tr>\\n      <th>85</th>\\n      <td>2020-03-11</td>\\n      <td>15:23:20,769</td>\\n      <td>WARNING</td>\\n      <td>1633</td>\\n      <td>no</td>\\n      <td>match</td>\\n    </tr>\\n    <tr>\\n      <th>86</th>\\n      <td>2020-03-11</td>\\n      <td>15:25:27,810</td>\\n      <td>INFO</td>\\n      <td>1626</td>\\n      <td>match</td>\\n      <td>NaN</td>\\n    </tr>\\n    <tr>\\n      <th>87</th>\\n      <td>2020-03-11</td>\\n      <td>15:25:27,811</td>\\n      <td>WARNING</td>\\n      <td>1626</td>\\n      <td>no</td>\\n      <td>match</td>\\n    </tr>\\n    <tr>\\n      <th>88</th>\\n      <td>2020-03-11</td>\\n      <td>15:27:07,363</td>\\n      <td>INFO</td>\\n      <td>1614</td>\\n      <td>match</td>\\n      <td>NaN</td>\\n    </tr>\\n    <tr>\\n      <th>89</th>\\n      <td>2020-03-11</td>\\n      <td>15:27:07,364</td>\\n      <td>WARNING</td>\\n      <td>1614</td>\\n      <td>no</td>\\n      <td>match</td>\\n    </tr>\\n    <tr>\\n      <th>90</th>\\n      <td>2020-03-11</td>\\n      <td>15:30:54,677</td>\\n      <td>INFO</td>\\n      <td>1724</td>\\n      <td>match</td>\\n      <td>NaN</td>\\n    </tr>\\n    <tr>\\n      <th>91</th>\\n      <td>2020-03-11</td>\\n      <td>15:30:54,678</td>\\n      <td>WARNING</td>\\n      <td>1724</td>\\n      <td>no</td>\\n      <td>match</td>\\n    </tr>\\n    <tr>\\n      <th>92</th>\\n      <td>2020-03-11</td>\\n      <td>15:31:36,778</td>\\n      <td>INFO</td>\\n      <td>1739</td>\\n      <td>match</td>\\n      <td>NaN</td>\\n    </tr>\\n    <tr>\\n      <th>93</th>\\n      <td>2020-03-11</td>\\n      <td>15:31:36,778</td>\\n      <td>WARNING</td>\\n      <td>1739</td>\\n      <td>no</td>\\n      <td>match</td>\\n    </tr>\\n    <tr>\\n      <th>94</th>\\n      <td>2020-03-11</td>\\n      <td>15:35:29,821</td>\\n      <td>INFO</td>\\n      <td>1761</td>\\n      <td>match</td>\\n      <td>NaN</td>\\n    </tr>\\n    <tr>\\n      <th>95</th>\\n      <td>2020-03-11</td>\\n      <td>15:35:29,821</td>\\n      <td>WARNING</td>\\n      <td>1761</td>\\n      <td>no</td>\\n      <td>match</td>\\n    </tr>\\n    <tr>\\n      <th>96</th>\\n      <td>2020-03-11</td>\\n      <td>15:43:56,957</td>\\n      <td>INFO</td>\\n      <td>1834</td>\\n      <td>match</td>\\n      <td>NaN</td>\\n    </tr>\\n    <tr>\\n      <th>97</th>\\n      <td>2020-03-11</td>\\n      <td>15:43:56,958</td>\\n      <td>WARNING</td>\\n      <td>1834</td>\\n      <td>no</td>\\n      <td>match</td>\\n    </tr>\\n    <tr>\\n      <th>98</th>\\n      <td>2020-03-11</td>\\n      <td>15:44:51,890</td>\\n      <td>INFO</td>\\n      <td>1848</td>\\n      <td>match</td>\\n      <td>NaN</td>\\n    </tr>\\n    <tr>\\n      <th>99</th>\\n      <td>2020-03-11</td>\\n      <td>15:44:51,891</td>\\n      <td>WARNING</td>\\n      <td>1848</td>\\n      <td>no</td>\\n      <td>match</td>\\n    </tr>\\n    <tr>\\n      <th>100</th>\\n      <td>2020-03-11</td>\\n      <td>15:52:14,811</td>\\n      <td>INFO</td>\\n      <td>1868</td>\\n      <td>match</td>\\n      <td>NaN</td>\\n    </tr>\\n    <tr>\\n      <th>101</th>\\n      <td>2020-03-11</td>\\n      <td>15:52:14,812</td>\\n      <td>WARNING</td>\\n      <td>1868</td>\\n      <td>no</td>\\n      <td>match</td>\\n    </tr>\\n    <tr>\\n      <th>102</th>\\n      <td>2020-03-11</td>\\n      <td>15:57:55,406</td>\\n      <td>INFO</td>\\n      <td>1907</td>\\n      <td>match</td>\\n      <td>NaN</td>\\n    </tr>\\n    <tr>\\n      <th>103</th>\\n      <td>2020-03-11</td>\\n      <td>15:57:55,407</td>\\n      <td>WARNING</td>\\n      <td>1907</td>\\n      <td>no</td>\\n      <td>match</td>\\n    </tr>\\n    <tr>\\n      <th>104</th>\\n      <td>2020-03-11</td>\\n      <td>17:14:50,672</td>\\n      <td>INFO</td>\\n      <td>1790</td>\\n      <td>match</td>\\n      <td>NaN</td>\\n    </tr>\\n    <tr>\\n      <th>105</th>\\n      <td>2020-03-11</td>\\n      <td>17:14:50,676</td>\\n      <td>WARNING</td>\\n      <td>1790</td>\\n      <td>no</td>\\n      <td>match</td>\\n    </tr>\\n    <tr>\\n      <th>106</th>\\n      <td>2020-03-11</td>\\n      <td>17:34:04,035</td>\\n      <td>INFO</td>\\n      <td>1996</td>\\n      <td>match</td>\\n      <td>NaN</td>\\n    </tr>\\n    <tr>\\n      <th>107</th>\\n      <td>2020-03-11</td>\\n      <td>17:34:04,035</td>\\n      <td>WARNING</td>\\n      <td>1996</td>\\n      <td>no</td>\\n      <td>match</td>\\n    </tr>\\n    <tr>\\n      <th>108</th>\\n      <td>2020-03-11</td>\\n      <td>17:34:29,844</td>\\n      <td>INFO</td>\\n      <td>2012</td>\\n      <td>match</td>\\n      <td>NaN</td>\\n    </tr>\\n    <tr>\\n      <th>109</th>\\n      <td>2020-03-11</td>\\n      <td>17:34:29,844</td>\\n      <td>WARNING</td>\\n      <td>2012</td>\\n      <td>no</td>\\n      <td>match</td>\\n    </tr>\\n    <tr>\\n      <th>110</th>\\n      <td>2020-03-11</td>\\n      <td>17:36:05,927</td>\\n      <td>INFO</td>\\n      <td>2031</td>\\n      <td>match</td>\\n      <td>NaN</td>\\n    </tr>\\n    <tr>\\n      <th>111</th>\\n      <td>2020-03-11</td>\\n      <td>17:36:05,928</td>\\n      <td>WARNING</td>\\n      <td>2031</td>\\n      <td>no</td>\\n      <td>match</td>\\n    </tr>\\n    <tr>\\n      <th>112</th>\\n      <td>2020-03-11</td>\\n      <td>17:36:54,895</td>\\n      <td>INFO</td>\\n      <td>2067</td>\\n      <td>match</td>\\n      <td>NaN</td>\\n    </tr>\\n    <tr>\\n      <th>113</th>\\n      <td>2020-03-11</td>\\n      <td>17:36:54,895</td>\\n      <td>WARNING</td>\\n      <td>2067</td>\\n      <td>no</td>\\n      <td>match</td>\\n    </tr>\\n    <tr>\\n      <th>114</th>\\n      <td>2020-03-11</td>\\n      <td>17:49:10,771</td>\\n      <td>INFO</td>\\n      <td>2152</td>\\n      <td>match</td>\\n      <td>NaN</td>\\n    </tr>\\n    <tr>\\n      <th>115</th>\\n      <td>2020-03-11</td>\\n      <td>17:49:10,772</td>\\n      <td>WARNING</td>\\n      <td>2152</td>\\n      <td>no</td>\\n      <td>match</td>\\n    </tr>\\n    <tr>\\n      <th>116</th>\\n      <td>2020-03-11</td>\\n      <td>18:16:42,443</td>\\n      <td>INFO</td>\\n      <td>2331</td>\\n      <td>match</td>\\n      <td>NaN</td>\\n    </tr>\\n    <tr>\\n      <th>117</th>\\n      <td>2020-03-11</td>\\n      <td>18:16:42,444</td>\\n      <td>WARNING</td>\\n      <td>2331</td>\\n      <td>no</td>\\n      <td>match</td>\\n    </tr>\\n  </tbody>\\n</table>'"
      ]
     },
     "execution_count": 40,
     "metadata": {},
     "output_type": "execute_result"
    }
   ],
   "source": [
    "df.to_html()"
   ]
  },
  {
   "cell_type": "code",
   "execution_count": 47,
   "metadata": {},
   "outputs": [
    {
     "ename": "NameError",
     "evalue": "name 'HTML' is not defined",
     "output_type": "error",
     "traceback": [
      "\u001b[1;31m---------------------------------------------------------------------------\u001b[0m",
      "\u001b[1;31mNameError\u001b[0m                                 Traceback (most recent call last)",
      "\u001b[1;32m<ipython-input-47-d67ff967e969>\u001b[0m in \u001b[0;36m<module>\u001b[1;34m\u001b[0m\n\u001b[1;32m----> 1\u001b[1;33m \u001b[0mHTML\u001b[0m\u001b[1;33m(\u001b[0m\u001b[0mdf\u001b[0m\u001b[1;33m.\u001b[0m\u001b[0mto_html\u001b[0m\u001b[1;33m(\u001b[0m\u001b[0mclasses\u001b[0m\u001b[1;33m=\u001b[0m\u001b[1;34m'table table-striped'\u001b[0m\u001b[1;33m)\u001b[0m\u001b[1;33m)\u001b[0m\u001b[1;33m\u001b[0m\u001b[1;33m\u001b[0m\u001b[0m\n\u001b[0m",
      "\u001b[1;31mNameError\u001b[0m: name 'HTML' is not defined"
     ]
    }
   ],
   "source": [
    "HTML(df.to_html(classes='table table-striped'))"
   ]
  },
  {
   "cell_type": "code",
   "execution_count": null,
   "metadata": {},
   "outputs": [],
   "source": []
  }
 ],
 "metadata": {
  "kernelspec": {
   "display_name": "Python 3",
   "language": "python",
   "name": "python3"
  },
  "language_info": {
   "codemirror_mode": {
    "name": "ipython",
    "version": 3
   },
   "file_extension": ".py",
   "mimetype": "text/x-python",
   "name": "python",
   "nbconvert_exporter": "python",
   "pygments_lexer": "ipython3",
   "version": "3.7.4"
  }
 },
 "nbformat": 4,
 "nbformat_minor": 2
}
