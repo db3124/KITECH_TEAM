{
 "cells": [
  {
   "cell_type": "code",
   "execution_count": 20,
   "metadata": {},
   "outputs": [],
   "source": [
    "import pandas as pd\n",
    "import numpy as np\n",
    "import matplotlib.pyplot as plt\n",
    "import matplotlib as mpl\n",
    "from datetime import datetime"
   ]
  },
  {
   "cell_type": "code",
   "execution_count": 22,
   "metadata": {
    "collapsed": true
   },
   "outputs": [
    {
     "data": {
      "text/html": [
       "<div>\n",
       "<style scoped>\n",
       "    .dataframe tbody tr th:only-of-type {\n",
       "        vertical-align: middle;\n",
       "    }\n",
       "\n",
       "    .dataframe tbody tr th {\n",
       "        vertical-align: top;\n",
       "    }\n",
       "\n",
       "    .dataframe thead th {\n",
       "        text-align: right;\n",
       "    }\n",
       "</style>\n",
       "<table border=\"1\" class=\"dataframe\">\n",
       "  <thead>\n",
       "    <tr style=\"text-align: right;\">\n",
       "      <th></th>\n",
       "      <th>etc</th>\n",
       "    </tr>\n",
       "    <tr>\n",
       "      <th>Datetime</th>\n",
       "      <th></th>\n",
       "    </tr>\n",
       "  </thead>\n",
       "  <tbody>\n",
       "    <tr>\n",
       "      <td>2020-03-21 10:21:58</td>\n",
       "      <td>573 INFO 1870 Temp=20.0C Humidity=39.0%</td>\n",
       "    </tr>\n",
       "    <tr>\n",
       "      <td>2020-03-21 10:22:10</td>\n",
       "      <td>642 INFO 1870 Temp=20.0C Humidity=41.0%</td>\n",
       "    </tr>\n",
       "    <tr>\n",
       "      <td>2020-03-21 10:22:22</td>\n",
       "      <td>711 INFO 1870 Temp=20.0C Humidity=42.0%</td>\n",
       "    </tr>\n",
       "    <tr>\n",
       "      <td>2020-03-21 10:23:10</td>\n",
       "      <td>573 INFO 1870 Temp=21.0C Humidity=39.0%</td>\n",
       "    </tr>\n",
       "    <tr>\n",
       "      <td>2020-03-21 10:23:48</td>\n",
       "      <td>642 INFO 1870 Temp=21.0C Humidity=41.0%</td>\n",
       "    </tr>\n",
       "    <tr>\n",
       "      <td>2020-03-21 10:24:22</td>\n",
       "      <td>711 INFO 1870 Temp=22.0C Humidity=42.0%</td>\n",
       "    </tr>\n",
       "    <tr>\n",
       "      <td>2020-03-21 10:24:58</td>\n",
       "      <td>573 INFO 1870 Temp=20.0C Humidity=40.0%</td>\n",
       "    </tr>\n",
       "    <tr>\n",
       "      <td>2020-03-21 10:25:10</td>\n",
       "      <td>642 INFO 1870 Temp=18.0C Humidity=41.0%</td>\n",
       "    </tr>\n",
       "    <tr>\n",
       "      <td>2020-03-21 10:25:22</td>\n",
       "      <td>711 INFO 1870 Temp=19.0C Humidity=42.0%</td>\n",
       "    </tr>\n",
       "    <tr>\n",
       "      <td>2020-03-21 10:26:58</td>\n",
       "      <td>573 INFO 1870 Temp=21.0C Humidity=39.0%</td>\n",
       "    </tr>\n",
       "    <tr>\n",
       "      <td>2020-03-21 10:27:10</td>\n",
       "      <td>642 INFO 1870 Temp=20.0C Humidity=41.0%</td>\n",
       "    </tr>\n",
       "    <tr>\n",
       "      <td>2020-03-21 10:27:22</td>\n",
       "      <td>711 INFO 1870 Temp=20.0C Humidity=42.0%</td>\n",
       "    </tr>\n",
       "    <tr>\n",
       "      <td>2020-03-21 10:28:10</td>\n",
       "      <td>573 INFO 1870 Temp=21.0C Humidity=39.0%</td>\n",
       "    </tr>\n",
       "    <tr>\n",
       "      <td>2020-03-21 10:28:48</td>\n",
       "      <td>642 INFO 1870 Temp=24.0C Humidity=41.0%</td>\n",
       "    </tr>\n",
       "    <tr>\n",
       "      <td>2020-03-21 10:29:22</td>\n",
       "      <td>711 INFO 1870 Temp=24.0C Humidity=42.0%</td>\n",
       "    </tr>\n",
       "    <tr>\n",
       "      <td>2020-03-21 10:29:58</td>\n",
       "      <td>573 INFO 1870 Temp=25.0C Humidity=40.0%</td>\n",
       "    </tr>\n",
       "    <tr>\n",
       "      <td>2020-03-21 10:30:10</td>\n",
       "      <td>642 INFO 1870 Temp=25.0C Humidity=41.0%</td>\n",
       "    </tr>\n",
       "    <tr>\n",
       "      <td>2020-03-21 10:30:22</td>\n",
       "      <td>711 INFO 1870 Temp=26.0C Humidity=39.0%</td>\n",
       "    </tr>\n",
       "  </tbody>\n",
       "</table>\n",
       "</div>"
      ],
      "text/plain": [
       "                                                         etc\n",
       "Datetime                                                    \n",
       "2020-03-21 10:21:58  573 INFO 1870 Temp=20.0C Humidity=39.0%\n",
       "2020-03-21 10:22:10  642 INFO 1870 Temp=20.0C Humidity=41.0%\n",
       "2020-03-21 10:22:22  711 INFO 1870 Temp=20.0C Humidity=42.0%\n",
       "2020-03-21 10:23:10  573 INFO 1870 Temp=21.0C Humidity=39.0%\n",
       "2020-03-21 10:23:48  642 INFO 1870 Temp=21.0C Humidity=41.0%\n",
       "2020-03-21 10:24:22  711 INFO 1870 Temp=22.0C Humidity=42.0%\n",
       "2020-03-21 10:24:58  573 INFO 1870 Temp=20.0C Humidity=40.0%\n",
       "2020-03-21 10:25:10  642 INFO 1870 Temp=18.0C Humidity=41.0%\n",
       "2020-03-21 10:25:22  711 INFO 1870 Temp=19.0C Humidity=42.0%\n",
       "2020-03-21 10:26:58  573 INFO 1870 Temp=21.0C Humidity=39.0%\n",
       "2020-03-21 10:27:10  642 INFO 1870 Temp=20.0C Humidity=41.0%\n",
       "2020-03-21 10:27:22  711 INFO 1870 Temp=20.0C Humidity=42.0%\n",
       "2020-03-21 10:28:10  573 INFO 1870 Temp=21.0C Humidity=39.0%\n",
       "2020-03-21 10:28:48  642 INFO 1870 Temp=24.0C Humidity=41.0%\n",
       "2020-03-21 10:29:22  711 INFO 1870 Temp=24.0C Humidity=42.0%\n",
       "2020-03-21 10:29:58  573 INFO 1870 Temp=25.0C Humidity=40.0%\n",
       "2020-03-21 10:30:10  642 INFO 1870 Temp=25.0C Humidity=41.0%\n",
       "2020-03-21 10:30:22  711 INFO 1870 Temp=26.0C Humidity=39.0%"
      ]
     },
     "execution_count": 22,
     "metadata": {},
     "output_type": "execute_result"
    }
   ],
   "source": [
    "df = pd.read_csv(\"tempHumid-2020-03-21.log\",\n",
    "                    names=['Datetime', 'etc'],\n",
    "                    header=None, index_col='Datetime')\n",
    "df"
   ]
  },
  {
   "cell_type": "code",
   "execution_count": 23,
   "metadata": {},
   "outputs": [
    {
     "data": {
      "text/html": [
       "<div>\n",
       "<style scoped>\n",
       "    .dataframe tbody tr th:only-of-type {\n",
       "        vertical-align: middle;\n",
       "    }\n",
       "\n",
       "    .dataframe tbody tr th {\n",
       "        vertical-align: top;\n",
       "    }\n",
       "\n",
       "    .dataframe thead th {\n",
       "        text-align: right;\n",
       "    }\n",
       "</style>\n",
       "<table border=\"1\" class=\"dataframe\">\n",
       "  <thead>\n",
       "    <tr style=\"text-align: right;\">\n",
       "      <th></th>\n",
       "      <th>etc</th>\n",
       "      <th>etc1</th>\n",
       "      <th>etc2</th>\n",
       "      <th>etc3</th>\n",
       "      <th>Temp</th>\n",
       "      <th>Humid</th>\n",
       "    </tr>\n",
       "    <tr>\n",
       "      <th>Datetime</th>\n",
       "      <th></th>\n",
       "      <th></th>\n",
       "      <th></th>\n",
       "      <th></th>\n",
       "      <th></th>\n",
       "      <th></th>\n",
       "    </tr>\n",
       "  </thead>\n",
       "  <tbody>\n",
       "    <tr>\n",
       "      <td>2020-03-21 10:21:58</td>\n",
       "      <td>573 INFO 1870 Temp=20.0C Humidity=39.0%</td>\n",
       "      <td>573</td>\n",
       "      <td>INFO</td>\n",
       "      <td>1870</td>\n",
       "      <td>Temp=20.0C</td>\n",
       "      <td>Humidity=39.0%</td>\n",
       "    </tr>\n",
       "    <tr>\n",
       "      <td>2020-03-21 10:22:10</td>\n",
       "      <td>642 INFO 1870 Temp=20.0C Humidity=41.0%</td>\n",
       "      <td>642</td>\n",
       "      <td>INFO</td>\n",
       "      <td>1870</td>\n",
       "      <td>Temp=20.0C</td>\n",
       "      <td>Humidity=41.0%</td>\n",
       "    </tr>\n",
       "    <tr>\n",
       "      <td>2020-03-21 10:22:22</td>\n",
       "      <td>711 INFO 1870 Temp=20.0C Humidity=42.0%</td>\n",
       "      <td>711</td>\n",
       "      <td>INFO</td>\n",
       "      <td>1870</td>\n",
       "      <td>Temp=20.0C</td>\n",
       "      <td>Humidity=42.0%</td>\n",
       "    </tr>\n",
       "    <tr>\n",
       "      <td>2020-03-21 10:23:10</td>\n",
       "      <td>573 INFO 1870 Temp=21.0C Humidity=39.0%</td>\n",
       "      <td>573</td>\n",
       "      <td>INFO</td>\n",
       "      <td>1870</td>\n",
       "      <td>Temp=21.0C</td>\n",
       "      <td>Humidity=39.0%</td>\n",
       "    </tr>\n",
       "    <tr>\n",
       "      <td>2020-03-21 10:23:48</td>\n",
       "      <td>642 INFO 1870 Temp=21.0C Humidity=41.0%</td>\n",
       "      <td>642</td>\n",
       "      <td>INFO</td>\n",
       "      <td>1870</td>\n",
       "      <td>Temp=21.0C</td>\n",
       "      <td>Humidity=41.0%</td>\n",
       "    </tr>\n",
       "    <tr>\n",
       "      <td>2020-03-21 10:24:22</td>\n",
       "      <td>711 INFO 1870 Temp=22.0C Humidity=42.0%</td>\n",
       "      <td>711</td>\n",
       "      <td>INFO</td>\n",
       "      <td>1870</td>\n",
       "      <td>Temp=22.0C</td>\n",
       "      <td>Humidity=42.0%</td>\n",
       "    </tr>\n",
       "    <tr>\n",
       "      <td>2020-03-21 10:24:58</td>\n",
       "      <td>573 INFO 1870 Temp=20.0C Humidity=40.0%</td>\n",
       "      <td>573</td>\n",
       "      <td>INFO</td>\n",
       "      <td>1870</td>\n",
       "      <td>Temp=20.0C</td>\n",
       "      <td>Humidity=40.0%</td>\n",
       "    </tr>\n",
       "    <tr>\n",
       "      <td>2020-03-21 10:25:10</td>\n",
       "      <td>642 INFO 1870 Temp=18.0C Humidity=41.0%</td>\n",
       "      <td>642</td>\n",
       "      <td>INFO</td>\n",
       "      <td>1870</td>\n",
       "      <td>Temp=18.0C</td>\n",
       "      <td>Humidity=41.0%</td>\n",
       "    </tr>\n",
       "    <tr>\n",
       "      <td>2020-03-21 10:25:22</td>\n",
       "      <td>711 INFO 1870 Temp=19.0C Humidity=42.0%</td>\n",
       "      <td>711</td>\n",
       "      <td>INFO</td>\n",
       "      <td>1870</td>\n",
       "      <td>Temp=19.0C</td>\n",
       "      <td>Humidity=42.0%</td>\n",
       "    </tr>\n",
       "    <tr>\n",
       "      <td>2020-03-21 10:26:58</td>\n",
       "      <td>573 INFO 1870 Temp=21.0C Humidity=39.0%</td>\n",
       "      <td>573</td>\n",
       "      <td>INFO</td>\n",
       "      <td>1870</td>\n",
       "      <td>Temp=21.0C</td>\n",
       "      <td>Humidity=39.0%</td>\n",
       "    </tr>\n",
       "    <tr>\n",
       "      <td>2020-03-21 10:27:10</td>\n",
       "      <td>642 INFO 1870 Temp=20.0C Humidity=41.0%</td>\n",
       "      <td>642</td>\n",
       "      <td>INFO</td>\n",
       "      <td>1870</td>\n",
       "      <td>Temp=20.0C</td>\n",
       "      <td>Humidity=41.0%</td>\n",
       "    </tr>\n",
       "    <tr>\n",
       "      <td>2020-03-21 10:27:22</td>\n",
       "      <td>711 INFO 1870 Temp=20.0C Humidity=42.0%</td>\n",
       "      <td>711</td>\n",
       "      <td>INFO</td>\n",
       "      <td>1870</td>\n",
       "      <td>Temp=20.0C</td>\n",
       "      <td>Humidity=42.0%</td>\n",
       "    </tr>\n",
       "    <tr>\n",
       "      <td>2020-03-21 10:28:10</td>\n",
       "      <td>573 INFO 1870 Temp=21.0C Humidity=39.0%</td>\n",
       "      <td>573</td>\n",
       "      <td>INFO</td>\n",
       "      <td>1870</td>\n",
       "      <td>Temp=21.0C</td>\n",
       "      <td>Humidity=39.0%</td>\n",
       "    </tr>\n",
       "    <tr>\n",
       "      <td>2020-03-21 10:28:48</td>\n",
       "      <td>642 INFO 1870 Temp=24.0C Humidity=41.0%</td>\n",
       "      <td>642</td>\n",
       "      <td>INFO</td>\n",
       "      <td>1870</td>\n",
       "      <td>Temp=24.0C</td>\n",
       "      <td>Humidity=41.0%</td>\n",
       "    </tr>\n",
       "    <tr>\n",
       "      <td>2020-03-21 10:29:22</td>\n",
       "      <td>711 INFO 1870 Temp=24.0C Humidity=42.0%</td>\n",
       "      <td>711</td>\n",
       "      <td>INFO</td>\n",
       "      <td>1870</td>\n",
       "      <td>Temp=24.0C</td>\n",
       "      <td>Humidity=42.0%</td>\n",
       "    </tr>\n",
       "    <tr>\n",
       "      <td>2020-03-21 10:29:58</td>\n",
       "      <td>573 INFO 1870 Temp=25.0C Humidity=40.0%</td>\n",
       "      <td>573</td>\n",
       "      <td>INFO</td>\n",
       "      <td>1870</td>\n",
       "      <td>Temp=25.0C</td>\n",
       "      <td>Humidity=40.0%</td>\n",
       "    </tr>\n",
       "    <tr>\n",
       "      <td>2020-03-21 10:30:10</td>\n",
       "      <td>642 INFO 1870 Temp=25.0C Humidity=41.0%</td>\n",
       "      <td>642</td>\n",
       "      <td>INFO</td>\n",
       "      <td>1870</td>\n",
       "      <td>Temp=25.0C</td>\n",
       "      <td>Humidity=41.0%</td>\n",
       "    </tr>\n",
       "    <tr>\n",
       "      <td>2020-03-21 10:30:22</td>\n",
       "      <td>711 INFO 1870 Temp=26.0C Humidity=39.0%</td>\n",
       "      <td>711</td>\n",
       "      <td>INFO</td>\n",
       "      <td>1870</td>\n",
       "      <td>Temp=26.0C</td>\n",
       "      <td>Humidity=39.0%</td>\n",
       "    </tr>\n",
       "  </tbody>\n",
       "</table>\n",
       "</div>"
      ],
      "text/plain": [
       "                                                         etc etc1  etc2  etc3  \\\n",
       "Datetime                                                                        \n",
       "2020-03-21 10:21:58  573 INFO 1870 Temp=20.0C Humidity=39.0%  573  INFO  1870   \n",
       "2020-03-21 10:22:10  642 INFO 1870 Temp=20.0C Humidity=41.0%  642  INFO  1870   \n",
       "2020-03-21 10:22:22  711 INFO 1870 Temp=20.0C Humidity=42.0%  711  INFO  1870   \n",
       "2020-03-21 10:23:10  573 INFO 1870 Temp=21.0C Humidity=39.0%  573  INFO  1870   \n",
       "2020-03-21 10:23:48  642 INFO 1870 Temp=21.0C Humidity=41.0%  642  INFO  1870   \n",
       "2020-03-21 10:24:22  711 INFO 1870 Temp=22.0C Humidity=42.0%  711  INFO  1870   \n",
       "2020-03-21 10:24:58  573 INFO 1870 Temp=20.0C Humidity=40.0%  573  INFO  1870   \n",
       "2020-03-21 10:25:10  642 INFO 1870 Temp=18.0C Humidity=41.0%  642  INFO  1870   \n",
       "2020-03-21 10:25:22  711 INFO 1870 Temp=19.0C Humidity=42.0%  711  INFO  1870   \n",
       "2020-03-21 10:26:58  573 INFO 1870 Temp=21.0C Humidity=39.0%  573  INFO  1870   \n",
       "2020-03-21 10:27:10  642 INFO 1870 Temp=20.0C Humidity=41.0%  642  INFO  1870   \n",
       "2020-03-21 10:27:22  711 INFO 1870 Temp=20.0C Humidity=42.0%  711  INFO  1870   \n",
       "2020-03-21 10:28:10  573 INFO 1870 Temp=21.0C Humidity=39.0%  573  INFO  1870   \n",
       "2020-03-21 10:28:48  642 INFO 1870 Temp=24.0C Humidity=41.0%  642  INFO  1870   \n",
       "2020-03-21 10:29:22  711 INFO 1870 Temp=24.0C Humidity=42.0%  711  INFO  1870   \n",
       "2020-03-21 10:29:58  573 INFO 1870 Temp=25.0C Humidity=40.0%  573  INFO  1870   \n",
       "2020-03-21 10:30:10  642 INFO 1870 Temp=25.0C Humidity=41.0%  642  INFO  1870   \n",
       "2020-03-21 10:30:22  711 INFO 1870 Temp=26.0C Humidity=39.0%  711  INFO  1870   \n",
       "\n",
       "                           Temp           Humid  \n",
       "Datetime                                         \n",
       "2020-03-21 10:21:58  Temp=20.0C  Humidity=39.0%  \n",
       "2020-03-21 10:22:10  Temp=20.0C  Humidity=41.0%  \n",
       "2020-03-21 10:22:22  Temp=20.0C  Humidity=42.0%  \n",
       "2020-03-21 10:23:10  Temp=21.0C  Humidity=39.0%  \n",
       "2020-03-21 10:23:48  Temp=21.0C  Humidity=41.0%  \n",
       "2020-03-21 10:24:22  Temp=22.0C  Humidity=42.0%  \n",
       "2020-03-21 10:24:58  Temp=20.0C  Humidity=40.0%  \n",
       "2020-03-21 10:25:10  Temp=18.0C  Humidity=41.0%  \n",
       "2020-03-21 10:25:22  Temp=19.0C  Humidity=42.0%  \n",
       "2020-03-21 10:26:58  Temp=21.0C  Humidity=39.0%  \n",
       "2020-03-21 10:27:10  Temp=20.0C  Humidity=41.0%  \n",
       "2020-03-21 10:27:22  Temp=20.0C  Humidity=42.0%  \n",
       "2020-03-21 10:28:10  Temp=21.0C  Humidity=39.0%  \n",
       "2020-03-21 10:28:48  Temp=24.0C  Humidity=41.0%  \n",
       "2020-03-21 10:29:22  Temp=24.0C  Humidity=42.0%  \n",
       "2020-03-21 10:29:58  Temp=25.0C  Humidity=40.0%  \n",
       "2020-03-21 10:30:10  Temp=25.0C  Humidity=41.0%  \n",
       "2020-03-21 10:30:22  Temp=26.0C  Humidity=39.0%  "
      ]
     },
     "execution_count": 23,
     "metadata": {},
     "output_type": "execute_result"
    }
   ],
   "source": [
    "df[['etc1', 'etc2', 'etc3', 'Temp', 'Humid']] = df['etc'].str.split(' ', n=5, expand=True)\n",
    "df"
   ]
  },
  {
   "cell_type": "code",
   "execution_count": 24,
   "metadata": {},
   "outputs": [],
   "source": [
    "del df['etc']"
   ]
  },
  {
   "cell_type": "code",
   "execution_count": 25,
   "metadata": {},
   "outputs": [],
   "source": [
    "del df['etc1']"
   ]
  },
  {
   "cell_type": "code",
   "execution_count": 26,
   "metadata": {},
   "outputs": [],
   "source": [
    "del df['etc2']"
   ]
  },
  {
   "cell_type": "code",
   "execution_count": 27,
   "metadata": {},
   "outputs": [],
   "source": [
    "del df['etc3']"
   ]
  },
  {
   "cell_type": "code",
   "execution_count": 28,
   "metadata": {},
   "outputs": [],
   "source": [
    "df['Temp'] = df['Temp'].str.slice(start=5, stop=-1)"
   ]
  },
  {
   "cell_type": "code",
   "execution_count": 29,
   "metadata": {
    "scrolled": true
   },
   "outputs": [],
   "source": [
    "df['Temp'] = df['Temp'].apply(pd.to_numeric)"
   ]
  },
  {
   "cell_type": "code",
   "execution_count": 30,
   "metadata": {},
   "outputs": [],
   "source": [
    "df['Humid'] = df['Humid'].str.slice(start=9, stop=-1)"
   ]
  },
  {
   "cell_type": "code",
   "execution_count": 31,
   "metadata": {
    "scrolled": true
   },
   "outputs": [],
   "source": [
    "df['Humid'] = df['Humid'].apply(pd.to_numeric)"
   ]
  },
  {
   "cell_type": "code",
   "execution_count": 32,
   "metadata": {
    "scrolled": false
   },
   "outputs": [
    {
     "name": "stdout",
     "output_type": "stream",
     "text": [
      "<class 'pandas.core.frame.DataFrame'>\n",
      "Index: 18 entries, 2020-03-21 10:21:58 to 2020-03-21 10:30:22\n",
      "Data columns (total 2 columns):\n",
      "Temp     18 non-null float64\n",
      "Humid    18 non-null float64\n",
      "dtypes: float64(2)\n",
      "memory usage: 432.0+ bytes\n"
     ]
    }
   ],
   "source": [
    "df.info()"
   ]
  },
  {
   "cell_type": "code",
   "execution_count": 33,
   "metadata": {},
   "outputs": [],
   "source": [
    "df.index = pd.to_datetime(df.index)"
   ]
  },
  {
   "cell_type": "code",
   "execution_count": 34,
   "metadata": {},
   "outputs": [
    {
     "name": "stdout",
     "output_type": "stream",
     "text": [
      "<class 'pandas.core.frame.DataFrame'>\n",
      "DatetimeIndex: 18 entries, 2020-03-21 10:21:58 to 2020-03-21 10:30:22\n",
      "Data columns (total 2 columns):\n",
      "Temp     18 non-null float64\n",
      "Humid    18 non-null float64\n",
      "dtypes: float64(2)\n",
      "memory usage: 432.0 bytes\n"
     ]
    }
   ],
   "source": [
    "df.info()"
   ]
  },
  {
   "cell_type": "code",
   "execution_count": 35,
   "metadata": {},
   "outputs": [
    {
     "data": {
      "text/html": [
       "<div>\n",
       "<style scoped>\n",
       "    .dataframe tbody tr th:only-of-type {\n",
       "        vertical-align: middle;\n",
       "    }\n",
       "\n",
       "    .dataframe tbody tr th {\n",
       "        vertical-align: top;\n",
       "    }\n",
       "\n",
       "    .dataframe thead th {\n",
       "        text-align: right;\n",
       "    }\n",
       "</style>\n",
       "<table border=\"1\" class=\"dataframe\">\n",
       "  <thead>\n",
       "    <tr style=\"text-align: right;\">\n",
       "      <th></th>\n",
       "      <th>Temp</th>\n",
       "      <th>Humid</th>\n",
       "    </tr>\n",
       "    <tr>\n",
       "      <th>Datetime</th>\n",
       "      <th></th>\n",
       "      <th></th>\n",
       "    </tr>\n",
       "  </thead>\n",
       "  <tbody>\n",
       "    <tr>\n",
       "      <td>2020-03-21 10:21:58</td>\n",
       "      <td>20.0</td>\n",
       "      <td>39.0</td>\n",
       "    </tr>\n",
       "    <tr>\n",
       "      <td>2020-03-21 10:22:10</td>\n",
       "      <td>20.0</td>\n",
       "      <td>41.0</td>\n",
       "    </tr>\n",
       "    <tr>\n",
       "      <td>2020-03-21 10:22:22</td>\n",
       "      <td>20.0</td>\n",
       "      <td>42.0</td>\n",
       "    </tr>\n",
       "    <tr>\n",
       "      <td>2020-03-21 10:23:10</td>\n",
       "      <td>21.0</td>\n",
       "      <td>39.0</td>\n",
       "    </tr>\n",
       "    <tr>\n",
       "      <td>2020-03-21 10:23:48</td>\n",
       "      <td>21.0</td>\n",
       "      <td>41.0</td>\n",
       "    </tr>\n",
       "    <tr>\n",
       "      <td>2020-03-21 10:24:22</td>\n",
       "      <td>22.0</td>\n",
       "      <td>42.0</td>\n",
       "    </tr>\n",
       "    <tr>\n",
       "      <td>2020-03-21 10:24:58</td>\n",
       "      <td>20.0</td>\n",
       "      <td>40.0</td>\n",
       "    </tr>\n",
       "    <tr>\n",
       "      <td>2020-03-21 10:25:10</td>\n",
       "      <td>18.0</td>\n",
       "      <td>41.0</td>\n",
       "    </tr>\n",
       "    <tr>\n",
       "      <td>2020-03-21 10:25:22</td>\n",
       "      <td>19.0</td>\n",
       "      <td>42.0</td>\n",
       "    </tr>\n",
       "    <tr>\n",
       "      <td>2020-03-21 10:26:58</td>\n",
       "      <td>21.0</td>\n",
       "      <td>39.0</td>\n",
       "    </tr>\n",
       "    <tr>\n",
       "      <td>2020-03-21 10:27:10</td>\n",
       "      <td>20.0</td>\n",
       "      <td>41.0</td>\n",
       "    </tr>\n",
       "    <tr>\n",
       "      <td>2020-03-21 10:27:22</td>\n",
       "      <td>20.0</td>\n",
       "      <td>42.0</td>\n",
       "    </tr>\n",
       "    <tr>\n",
       "      <td>2020-03-21 10:28:10</td>\n",
       "      <td>21.0</td>\n",
       "      <td>39.0</td>\n",
       "    </tr>\n",
       "    <tr>\n",
       "      <td>2020-03-21 10:28:48</td>\n",
       "      <td>24.0</td>\n",
       "      <td>41.0</td>\n",
       "    </tr>\n",
       "    <tr>\n",
       "      <td>2020-03-21 10:29:22</td>\n",
       "      <td>24.0</td>\n",
       "      <td>42.0</td>\n",
       "    </tr>\n",
       "    <tr>\n",
       "      <td>2020-03-21 10:29:58</td>\n",
       "      <td>25.0</td>\n",
       "      <td>40.0</td>\n",
       "    </tr>\n",
       "    <tr>\n",
       "      <td>2020-03-21 10:30:10</td>\n",
       "      <td>25.0</td>\n",
       "      <td>41.0</td>\n",
       "    </tr>\n",
       "    <tr>\n",
       "      <td>2020-03-21 10:30:22</td>\n",
       "      <td>26.0</td>\n",
       "      <td>39.0</td>\n",
       "    </tr>\n",
       "  </tbody>\n",
       "</table>\n",
       "</div>"
      ],
      "text/plain": [
       "                     Temp  Humid\n",
       "Datetime                        \n",
       "2020-03-21 10:21:58  20.0   39.0\n",
       "2020-03-21 10:22:10  20.0   41.0\n",
       "2020-03-21 10:22:22  20.0   42.0\n",
       "2020-03-21 10:23:10  21.0   39.0\n",
       "2020-03-21 10:23:48  21.0   41.0\n",
       "2020-03-21 10:24:22  22.0   42.0\n",
       "2020-03-21 10:24:58  20.0   40.0\n",
       "2020-03-21 10:25:10  18.0   41.0\n",
       "2020-03-21 10:25:22  19.0   42.0\n",
       "2020-03-21 10:26:58  21.0   39.0\n",
       "2020-03-21 10:27:10  20.0   41.0\n",
       "2020-03-21 10:27:22  20.0   42.0\n",
       "2020-03-21 10:28:10  21.0   39.0\n",
       "2020-03-21 10:28:48  24.0   41.0\n",
       "2020-03-21 10:29:22  24.0   42.0\n",
       "2020-03-21 10:29:58  25.0   40.0\n",
       "2020-03-21 10:30:10  25.0   41.0\n",
       "2020-03-21 10:30:22  26.0   39.0"
      ]
     },
     "execution_count": 35,
     "metadata": {},
     "output_type": "execute_result"
    }
   ],
   "source": [
    "df"
   ]
  },
  {
   "cell_type": "code",
   "execution_count": 36,
   "metadata": {},
   "outputs": [
    {
     "data": {
      "text/plain": [
       "<matplotlib.axes._subplots.AxesSubplot at 0x1b87ac4a248>"
      ]
     },
     "execution_count": 36,
     "metadata": {},
     "output_type": "execute_result"
    },
    {
     "data": {
      "image/png": "[encoded data removed]",
      "text/plain": [
       "<Figure size 432x288 with 1 Axes>"
      ]
     },
     "metadata": {
      "needs_background": "light"
     },
     "output_type": "display_data"
    }
   ],
   "source": [
    "df.plot()"
   ]
  },
  {
   "cell_type": "code",
   "execution_count": 37,
   "metadata": {},
   "outputs": [
    {
     "data": {
      "text/plain": [
       "Datetime\n",
       "2020-03-21 10:21:00    AxesSubplot(0.125,0.125;0.775x0.755)\n",
       "2020-03-21 10:22:00    AxesSubplot(0.125,0.125;0.775x0.755)\n",
       "2020-03-21 10:23:00    AxesSubplot(0.125,0.125;0.775x0.755)\n",
       "2020-03-21 10:24:00    AxesSubplot(0.125,0.125;0.775x0.755)\n",
       "2020-03-21 10:25:00    AxesSubplot(0.125,0.125;0.775x0.755)\n",
       "2020-03-21 10:26:00    AxesSubplot(0.125,0.125;0.775x0.755)\n",
       "2020-03-21 10:27:00    AxesSubplot(0.125,0.125;0.775x0.755)\n",
       "2020-03-21 10:28:00    AxesSubplot(0.125,0.125;0.775x0.755)\n",
       "2020-03-21 10:29:00    AxesSubplot(0.125,0.125;0.775x0.755)\n",
       "2020-03-21 10:30:00    AxesSubplot(0.125,0.125;0.775x0.755)\n",
       "dtype: object"
      ]
     },
     "execution_count": 37,
     "metadata": {},
     "output_type": "execute_result"
    },
    {
     "data": {
      "image/png": "[encoded data removed]",
      "text/plain": [
       "<Figure size 432x288 with 1 Axes>"
      ]
     },
     "metadata": {
      "needs_background": "light"
     },
     "output_type": "display_data"
    }
   ],
   "source": [
    "df['Temp'].resample('min').plot(kind='bar')"
   ]
  },
  {
   "cell_type": "code",
   "execution_count": 38,
   "metadata": {
    "scrolled": true
   },
   "outputs": [
    {
     "data": {
      "text/plain": [
       "Text([737505.43414352], 18.0, 'Lowest')"
      ]
     },
     "execution_count": 38,
     "metadata": {},
     "output_type": "execute_result"
    },
    {
     "ename": "ValueError",
     "evalue": "Image size of 246916856x3945 pixels is too large. It must be less than 2^16 in each direction.",
     "output_type": "error",
     "traceback": [
      "\u001b[1;31m---------------------------------------------------------------------------\u001b[0m",
      "\u001b[1;31mValueError\u001b[0m                                Traceback (most recent call last)",
      "\u001b[1;32m~\\Anaconda3\\lib\\site-packages\\IPython\\core\\formatters.py\u001b[0m in \u001b[0;36m__call__\u001b[1;34m(self, obj)\u001b[0m\n\u001b[0;32m    339\u001b[0m                 \u001b[1;32mpass\u001b[0m\u001b[1;33m\u001b[0m\u001b[1;33m\u001b[0m\u001b[0m\n\u001b[0;32m    340\u001b[0m             \u001b[1;32melse\u001b[0m\u001b[1;33m:\u001b[0m\u001b[1;33m\u001b[0m\u001b[1;33m\u001b[0m\u001b[0m\n\u001b[1;32m--> 341\u001b[1;33m                 \u001b[1;32mreturn\u001b[0m \u001b[0mprinter\u001b[0m\u001b[1;33m(\u001b[0m\u001b[0mobj\u001b[0m\u001b[1;33m)\u001b[0m\u001b[1;33m\u001b[0m\u001b[1;33m\u001b[0m\u001b[0m\n\u001b[0m\u001b[0;32m    342\u001b[0m             \u001b[1;31m# Finally look for special method names\u001b[0m\u001b[1;33m\u001b[0m\u001b[1;33m\u001b[0m\u001b[1;33m\u001b[0m\u001b[0m\n\u001b[0;32m    343\u001b[0m             \u001b[0mmethod\u001b[0m \u001b[1;33m=\u001b[0m \u001b[0mget_real_method\u001b[0m\u001b[1;33m(\u001b[0m\u001b[0mobj\u001b[0m\u001b[1;33m,\u001b[0m \u001b[0mself\u001b[0m\u001b[1;33m.\u001b[0m\u001b[0mprint_method\u001b[0m\u001b[1;33m)\u001b[0m\u001b[1;33m\u001b[0m\u001b[1;33m\u001b[0m\u001b[0m\n",
      "\u001b[1;32m~\\Anaconda3\\lib\\site-packages\\IPython\\core\\pylabtools.py\u001b[0m in \u001b[0;36m<lambda>\u001b[1;34m(fig)\u001b[0m\n\u001b[0;32m    242\u001b[0m \u001b[1;33m\u001b[0m\u001b[0m\n\u001b[0;32m    243\u001b[0m     \u001b[1;32mif\u001b[0m \u001b[1;34m'png'\u001b[0m \u001b[1;32min\u001b[0m \u001b[0mformats\u001b[0m\u001b[1;33m:\u001b[0m\u001b[1;33m\u001b[0m\u001b[1;33m\u001b[0m\u001b[0m\n\u001b[1;32m--> 244\u001b[1;33m         \u001b[0mpng_formatter\u001b[0m\u001b[1;33m.\u001b[0m\u001b[0mfor_type\u001b[0m\u001b[1;33m(\u001b[0m\u001b[0mFigure\u001b[0m\u001b[1;33m,\u001b[0m \u001b[1;32mlambda\u001b[0m \u001b[0mfig\u001b[0m\u001b[1;33m:\u001b[0m \u001b[0mprint_figure\u001b[0m\u001b[1;33m(\u001b[0m\u001b[0mfig\u001b[0m\u001b[1;33m,\u001b[0m \u001b[1;34m'png'\u001b[0m\u001b[1;33m,\u001b[0m \u001b[1;33m**\u001b[0m\u001b[0mkwargs\u001b[0m\u001b[1;33m)\u001b[0m\u001b[1;33m)\u001b[0m\u001b[1;33m\u001b[0m\u001b[1;33m\u001b[0m\u001b[0m\n\u001b[0m\u001b[0;32m    245\u001b[0m     \u001b[1;32mif\u001b[0m \u001b[1;34m'retina'\u001b[0m \u001b[1;32min\u001b[0m \u001b[0mformats\u001b[0m \u001b[1;32mor\u001b[0m \u001b[1;34m'png2x'\u001b[0m \u001b[1;32min\u001b[0m \u001b[0mformats\u001b[0m\u001b[1;33m:\u001b[0m\u001b[1;33m\u001b[0m\u001b[1;33m\u001b[0m\u001b[0m\n\u001b[0;32m    246\u001b[0m         \u001b[0mpng_formatter\u001b[0m\u001b[1;33m.\u001b[0m\u001b[0mfor_type\u001b[0m\u001b[1;33m(\u001b[0m\u001b[0mFigure\u001b[0m\u001b[1;33m,\u001b[0m \u001b[1;32mlambda\u001b[0m \u001b[0mfig\u001b[0m\u001b[1;33m:\u001b[0m \u001b[0mretina_figure\u001b[0m\u001b[1;33m(\u001b[0m\u001b[0mfig\u001b[0m\u001b[1;33m,\u001b[0m \u001b[1;33m**\u001b[0m\u001b[0mkwargs\u001b[0m\u001b[1;33m)\u001b[0m\u001b[1;33m)\u001b[0m\u001b[1;33m\u001b[0m\u001b[1;33m\u001b[0m\u001b[0m\n",
      "\u001b[1;32m~\\Anaconda3\\lib\\site-packages\\IPython\\core\\pylabtools.py\u001b[0m in \u001b[0;36mprint_figure\u001b[1;34m(fig, fmt, bbox_inches, **kwargs)\u001b[0m\n\u001b[0;32m    126\u001b[0m \u001b[1;33m\u001b[0m\u001b[0m\n\u001b[0;32m    127\u001b[0m     \u001b[0mbytes_io\u001b[0m \u001b[1;33m=\u001b[0m \u001b[0mBytesIO\u001b[0m\u001b[1;33m(\u001b[0m\u001b[1;33m)\u001b[0m\u001b[1;33m\u001b[0m\u001b[1;33m\u001b[0m\u001b[0m\n\u001b[1;32m--> 128\u001b[1;33m     \u001b[0mfig\u001b[0m\u001b[1;33m.\u001b[0m\u001b[0mcanvas\u001b[0m\u001b[1;33m.\u001b[0m\u001b[0mprint_figure\u001b[0m\u001b[1;33m(\u001b[0m\u001b[0mbytes_io\u001b[0m\u001b[1;33m,\u001b[0m \u001b[1;33m**\u001b[0m\u001b[0mkw\u001b[0m\u001b[1;33m)\u001b[0m\u001b[1;33m\u001b[0m\u001b[1;33m\u001b[0m\u001b[0m\n\u001b[0m\u001b[0;32m    129\u001b[0m     \u001b[0mdata\u001b[0m \u001b[1;33m=\u001b[0m \u001b[0mbytes_io\u001b[0m\u001b[1;33m.\u001b[0m\u001b[0mgetvalue\u001b[0m\u001b[1;33m(\u001b[0m\u001b[1;33m)\u001b[0m\u001b[1;33m\u001b[0m\u001b[1;33m\u001b[0m\u001b[0m\n\u001b[0;32m    130\u001b[0m     \u001b[1;32mif\u001b[0m \u001b[0mfmt\u001b[0m \u001b[1;33m==\u001b[0m \u001b[1;34m'svg'\u001b[0m\u001b[1;33m:\u001b[0m\u001b[1;33m\u001b[0m\u001b[1;33m\u001b[0m\u001b[0m\n",
      "\u001b[1;32m~\\Anaconda3\\lib\\site-packages\\matplotlib\\backend_bases.py\u001b[0m in \u001b[0;36mprint_figure\u001b[1;34m(self, filename, dpi, facecolor, edgecolor, orientation, format, bbox_inches, **kwargs)\u001b[0m\n\u001b[0;32m   2080\u001b[0m                     \u001b[0morientation\u001b[0m\u001b[1;33m=\u001b[0m\u001b[0morientation\u001b[0m\u001b[1;33m,\u001b[0m\u001b[1;33m\u001b[0m\u001b[1;33m\u001b[0m\u001b[0m\n\u001b[0;32m   2081\u001b[0m                     \u001b[0mbbox_inches_restore\u001b[0m\u001b[1;33m=\u001b[0m\u001b[0m_bbox_inches_restore\u001b[0m\u001b[1;33m,\u001b[0m\u001b[1;33m\u001b[0m\u001b[1;33m\u001b[0m\u001b[0m\n\u001b[1;32m-> 2082\u001b[1;33m                     **kwargs)\n\u001b[0m\u001b[0;32m   2083\u001b[0m             \u001b[1;32mfinally\u001b[0m\u001b[1;33m:\u001b[0m\u001b[1;33m\u001b[0m\u001b[1;33m\u001b[0m\u001b[0m\n\u001b[0;32m   2084\u001b[0m                 \u001b[1;32mif\u001b[0m \u001b[0mbbox_inches\u001b[0m \u001b[1;32mand\u001b[0m \u001b[0mrestore_bbox\u001b[0m\u001b[1;33m:\u001b[0m\u001b[1;33m\u001b[0m\u001b[1;33m\u001b[0m\u001b[0m\n",
      "\u001b[1;32m~\\Anaconda3\\lib\\site-packages\\matplotlib\\backends\\backend_agg.py\u001b[0m in \u001b[0;36mprint_png\u001b[1;34m(self, filename_or_obj, metadata, pil_kwargs, *args, **kwargs)\u001b[0m\n\u001b[0;32m    525\u001b[0m \u001b[1;33m\u001b[0m\u001b[0m\n\u001b[0;32m    526\u001b[0m         \u001b[1;32melse\u001b[0m\u001b[1;33m:\u001b[0m\u001b[1;33m\u001b[0m\u001b[1;33m\u001b[0m\u001b[0m\n\u001b[1;32m--> 527\u001b[1;33m             \u001b[0mFigureCanvasAgg\u001b[0m\u001b[1;33m.\u001b[0m\u001b[0mdraw\u001b[0m\u001b[1;33m(\u001b[0m\u001b[0mself\u001b[0m\u001b[1;33m)\u001b[0m\u001b[1;33m\u001b[0m\u001b[1;33m\u001b[0m\u001b[0m\n\u001b[0m\u001b[0;32m    528\u001b[0m             \u001b[0mrenderer\u001b[0m \u001b[1;33m=\u001b[0m \u001b[0mself\u001b[0m\u001b[1;33m.\u001b[0m\u001b[0mget_renderer\u001b[0m\u001b[1;33m(\u001b[0m\u001b[1;33m)\u001b[0m\u001b[1;33m\u001b[0m\u001b[1;33m\u001b[0m\u001b[0m\n\u001b[0;32m    529\u001b[0m             \u001b[1;32mwith\u001b[0m \u001b[0mcbook\u001b[0m\u001b[1;33m.\u001b[0m\u001b[0m_setattr_cm\u001b[0m\u001b[1;33m(\u001b[0m\u001b[0mrenderer\u001b[0m\u001b[1;33m,\u001b[0m \u001b[0mdpi\u001b[0m\u001b[1;33m=\u001b[0m\u001b[0mself\u001b[0m\u001b[1;33m.\u001b[0m\u001b[0mfigure\u001b[0m\u001b[1;33m.\u001b[0m\u001b[0mdpi\u001b[0m\u001b[1;33m)\u001b[0m\u001b[1;33m,\u001b[0m\u001b[0;31m \u001b[0m\u001b[0;31m\\\u001b[0m\u001b[1;33m\u001b[0m\u001b[1;33m\u001b[0m\u001b[0m\n",
      "\u001b[1;32m~\\Anaconda3\\lib\\site-packages\\matplotlib\\backends\\backend_agg.py\u001b[0m in \u001b[0;36mdraw\u001b[1;34m(self)\u001b[0m\n\u001b[0;32m    384\u001b[0m         \u001b[0mDraw\u001b[0m \u001b[0mthe\u001b[0m \u001b[0mfigure\u001b[0m \u001b[0musing\u001b[0m \u001b[0mthe\u001b[0m \u001b[0mrenderer\u001b[0m\u001b[1;33m.\u001b[0m\u001b[1;33m\u001b[0m\u001b[1;33m\u001b[0m\u001b[0m\n\u001b[0;32m    385\u001b[0m         \"\"\"\n\u001b[1;32m--> 386\u001b[1;33m         \u001b[0mself\u001b[0m\u001b[1;33m.\u001b[0m\u001b[0mrenderer\u001b[0m \u001b[1;33m=\u001b[0m \u001b[0mself\u001b[0m\u001b[1;33m.\u001b[0m\u001b[0mget_renderer\u001b[0m\u001b[1;33m(\u001b[0m\u001b[0mcleared\u001b[0m\u001b[1;33m=\u001b[0m\u001b[1;32mTrue\u001b[0m\u001b[1;33m)\u001b[0m\u001b[1;33m\u001b[0m\u001b[1;33m\u001b[0m\u001b[0m\n\u001b[0m\u001b[0;32m    387\u001b[0m         \u001b[1;32mwith\u001b[0m \u001b[0mRendererAgg\u001b[0m\u001b[1;33m.\u001b[0m\u001b[0mlock\u001b[0m\u001b[1;33m:\u001b[0m\u001b[1;33m\u001b[0m\u001b[1;33m\u001b[0m\u001b[0m\n\u001b[0;32m    388\u001b[0m             \u001b[0mself\u001b[0m\u001b[1;33m.\u001b[0m\u001b[0mfigure\u001b[0m\u001b[1;33m.\u001b[0m\u001b[0mdraw\u001b[0m\u001b[1;33m(\u001b[0m\u001b[0mself\u001b[0m\u001b[1;33m.\u001b[0m\u001b[0mrenderer\u001b[0m\u001b[1;33m)\u001b[0m\u001b[1;33m\u001b[0m\u001b[1;33m\u001b[0m\u001b[0m\n",
      "\u001b[1;32m~\\Anaconda3\\lib\\site-packages\\matplotlib\\backends\\backend_agg.py\u001b[0m in \u001b[0;36mget_renderer\u001b[1;34m(self, cleared)\u001b[0m\n\u001b[0;32m    397\u001b[0m                           and getattr(self, \"_lastKey\", None) == key)\n\u001b[0;32m    398\u001b[0m         \u001b[1;32mif\u001b[0m \u001b[1;32mnot\u001b[0m \u001b[0mreuse_renderer\u001b[0m\u001b[1;33m:\u001b[0m\u001b[1;33m\u001b[0m\u001b[1;33m\u001b[0m\u001b[0m\n\u001b[1;32m--> 399\u001b[1;33m             \u001b[0mself\u001b[0m\u001b[1;33m.\u001b[0m\u001b[0mrenderer\u001b[0m \u001b[1;33m=\u001b[0m \u001b[0mRendererAgg\u001b[0m\u001b[1;33m(\u001b[0m\u001b[0mw\u001b[0m\u001b[1;33m,\u001b[0m \u001b[0mh\u001b[0m\u001b[1;33m,\u001b[0m \u001b[0mself\u001b[0m\u001b[1;33m.\u001b[0m\u001b[0mfigure\u001b[0m\u001b[1;33m.\u001b[0m\u001b[0mdpi\u001b[0m\u001b[1;33m)\u001b[0m\u001b[1;33m\u001b[0m\u001b[1;33m\u001b[0m\u001b[0m\n\u001b[0m\u001b[0;32m    400\u001b[0m             \u001b[0mself\u001b[0m\u001b[1;33m.\u001b[0m\u001b[0m_lastKey\u001b[0m \u001b[1;33m=\u001b[0m \u001b[0mkey\u001b[0m\u001b[1;33m\u001b[0m\u001b[1;33m\u001b[0m\u001b[0m\n\u001b[0;32m    401\u001b[0m         \u001b[1;32melif\u001b[0m \u001b[0mcleared\u001b[0m\u001b[1;33m:\u001b[0m\u001b[1;33m\u001b[0m\u001b[1;33m\u001b[0m\u001b[0m\n",
      "\u001b[1;32m~\\Anaconda3\\lib\\site-packages\\matplotlib\\backends\\backend_agg.py\u001b[0m in \u001b[0;36m__init__\u001b[1;34m(self, width, height, dpi)\u001b[0m\n\u001b[0;32m     84\u001b[0m         \u001b[0mself\u001b[0m\u001b[1;33m.\u001b[0m\u001b[0mwidth\u001b[0m \u001b[1;33m=\u001b[0m \u001b[0mwidth\u001b[0m\u001b[1;33m\u001b[0m\u001b[1;33m\u001b[0m\u001b[0m\n\u001b[0;32m     85\u001b[0m         \u001b[0mself\u001b[0m\u001b[1;33m.\u001b[0m\u001b[0mheight\u001b[0m \u001b[1;33m=\u001b[0m \u001b[0mheight\u001b[0m\u001b[1;33m\u001b[0m\u001b[1;33m\u001b[0m\u001b[0m\n\u001b[1;32m---> 86\u001b[1;33m         \u001b[0mself\u001b[0m\u001b[1;33m.\u001b[0m\u001b[0m_renderer\u001b[0m \u001b[1;33m=\u001b[0m \u001b[0m_RendererAgg\u001b[0m\u001b[1;33m(\u001b[0m\u001b[0mint\u001b[0m\u001b[1;33m(\u001b[0m\u001b[0mwidth\u001b[0m\u001b[1;33m)\u001b[0m\u001b[1;33m,\u001b[0m \u001b[0mint\u001b[0m\u001b[1;33m(\u001b[0m\u001b[0mheight\u001b[0m\u001b[1;33m)\u001b[0m\u001b[1;33m,\u001b[0m \u001b[0mdpi\u001b[0m\u001b[1;33m)\u001b[0m\u001b[1;33m\u001b[0m\u001b[1;33m\u001b[0m\u001b[0m\n\u001b[0m\u001b[0;32m     87\u001b[0m         \u001b[0mself\u001b[0m\u001b[1;33m.\u001b[0m\u001b[0m_filter_renderers\u001b[0m \u001b[1;33m=\u001b[0m \u001b[1;33m[\u001b[0m\u001b[1;33m]\u001b[0m\u001b[1;33m\u001b[0m\u001b[1;33m\u001b[0m\u001b[0m\n\u001b[0;32m     88\u001b[0m \u001b[1;33m\u001b[0m\u001b[0m\n",
      "\u001b[1;31mValueError\u001b[0m: Image size of 246916856x3945 pixels is too large. It must be less than 2^16 in each direction."
     ]
    },
    {
     "data": {
      "text/plain": [
       "<Figure size 432x288 with 1 Axes>"
      ]
     },
     "metadata": {
      "needs_background": "light"
     },
     "output_type": "display_data"
    }
   ],
   "source": [
    "df_cond_min = df[df['Temp'] == df['Temp'].min()]\n",
    "df_min = df_cond_min.loc[:, ['Temp']]\n",
    "min_idx = mpl.dates.date2num(df_min.index.to_pydatetime())\n",
    "arrowprops = dict(facecolor='black', headwidth=4, width=2, headlength=4)\n",
    "plt.annotate('Lowest', xy=(min_idx, df['Temp'].min()), arrowprops=arrowprops,horizontalalignment='right',verticalalignment='top')"
   ]
  },
  {
   "cell_type": "code",
   "execution_count": null,
   "metadata": {},
   "outputs": [],
   "source": []
  },
  {
   "cell_type": "code",
   "execution_count": null,
   "metadata": {},
   "outputs": [],
   "source": []
  }
 ],
 "metadata": {
  "kernelspec": {
   "display_name": "Python 3",
   "language": "python",
   "name": "python3"
  },
  "language_info": {
   "codemirror_mode": {
    "name": "ipython",
    "version": 3
   },
   "file_extension": ".py",
   "mimetype": "text/x-python",
   "name": "python",
   "nbconvert_exporter": "python",
   "pygments_lexer": "ipython3",
   "version": "3.7.4"
  }
 },
 "nbformat": 4,
 "nbformat_minor": 2
}
