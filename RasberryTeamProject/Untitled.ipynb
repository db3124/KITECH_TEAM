{
 "cells": [
  {
   "cell_type": "code",
   "execution_count": 109,
   "metadata": {},
   "outputs": [],
   "source": [
    "import pandas as pd\n",
    "import numpy as numpy\n",
    "import matplotlib.pyplot as plot\n",
    "\n",
    "from datetime import datetime"
   ]
  },
  {
   "cell_type": "code",
   "execution_count": 144,
   "metadata": {
    "scrolled": false
   },
   "outputs": [
    {
     "data": {
      "text/html": [
       "<div>\n",
       "<style scoped>\n",
       "    .dataframe tbody tr th:only-of-type {\n",
       "        vertical-align: middle;\n",
       "    }\n",
       "\n",
       "    .dataframe tbody tr th {\n",
       "        vertical-align: top;\n",
       "    }\n",
       "\n",
       "    .dataframe thead th {\n",
       "        text-align: right;\n",
       "    }\n",
       "</style>\n",
       "<table border=\"1\" class=\"dataframe\">\n",
       "  <thead>\n",
       "    <tr style=\"text-align: right;\">\n",
       "      <th></th>\n",
       "      <th>etc</th>\n",
       "    </tr>\n",
       "    <tr>\n",
       "      <th>Datetime</th>\n",
       "      <th></th>\n",
       "    </tr>\n",
       "  </thead>\n",
       "  <tbody>\n",
       "    <tr>\n",
       "      <td>2020-03-18 17:22:02</td>\n",
       "      <td>075 INFO 2351 Temp=26.0C Humidity=36.0%</td>\n",
       "    </tr>\n",
       "    <tr>\n",
       "      <td>2020-03-18 17:22:14</td>\n",
       "      <td>143 INFO 2351 Temp=27.0C Humidity=39.0%</td>\n",
       "    </tr>\n",
       "    <tr>\n",
       "      <td>2020-03-18 17:23:29</td>\n",
       "      <td>299 INFO 2351 Temp=21.0C Humidity=39.0%</td>\n",
       "    </tr>\n",
       "    <tr>\n",
       "      <td>2020-03-18 17:23:30</td>\n",
       "      <td>299 INFO 2351 Temp=30.0C Humidity=40.0%</td>\n",
       "    </tr>\n",
       "    <tr>\n",
       "      <td>2020-03-18 17:23:31</td>\n",
       "      <td>299 INFO 2351 Temp=22.0C Humidity=15.0%</td>\n",
       "    </tr>\n",
       "    <tr>\n",
       "      <td>2020-03-18 17:24:32</td>\n",
       "      <td>299 INFO 2351 Temp=23.0C Humidity=19.0%</td>\n",
       "    </tr>\n",
       "    <tr>\n",
       "      <td>2020-03-18 17:24:33</td>\n",
       "      <td>299 INFO 2351 Temp=20.0C Humidity=26.0%</td>\n",
       "    </tr>\n",
       "    <tr>\n",
       "      <td>2020-03-18 17:24:34</td>\n",
       "      <td>299 INFO 2351 Temp=27.0C Humidity=30.0%</td>\n",
       "    </tr>\n",
       "  </tbody>\n",
       "</table>\n",
       "</div>"
      ],
      "text/plain": [
       "                                                         etc\n",
       "Datetime                                                    \n",
       "2020-03-18 17:22:02  075 INFO 2351 Temp=26.0C Humidity=36.0%\n",
       "2020-03-18 17:22:14  143 INFO 2351 Temp=27.0C Humidity=39.0%\n",
       "2020-03-18 17:23:29  299 INFO 2351 Temp=21.0C Humidity=39.0%\n",
       "2020-03-18 17:23:30  299 INFO 2351 Temp=30.0C Humidity=40.0%\n",
       "2020-03-18 17:23:31  299 INFO 2351 Temp=22.0C Humidity=15.0%\n",
       "2020-03-18 17:24:32  299 INFO 2351 Temp=23.0C Humidity=19.0%\n",
       "2020-03-18 17:24:33  299 INFO 2351 Temp=20.0C Humidity=26.0%\n",
       "2020-03-18 17:24:34  299 INFO 2351 Temp=27.0C Humidity=30.0%"
      ]
     },
     "execution_count": 144,
     "metadata": {},
     "output_type": "execute_result"
    }
   ],
   "source": [
    "df = pd.read_csv(\"tempHumid-2020-03-18.log\",\n",
    "                    names=['Datetime', 'etc'],\n",
    "                    header=None, index_col='Datetime')\n",
    "df"
   ]
  },
  {
   "cell_type": "code",
   "execution_count": 145,
   "metadata": {
    "scrolled": false
   },
   "outputs": [
    {
     "data": {
      "text/html": [
       "<div>\n",
       "<style scoped>\n",
       "    .dataframe tbody tr th:only-of-type {\n",
       "        vertical-align: middle;\n",
       "    }\n",
       "\n",
       "    .dataframe tbody tr th {\n",
       "        vertical-align: top;\n",
       "    }\n",
       "\n",
       "    .dataframe thead th {\n",
       "        text-align: right;\n",
       "    }\n",
       "</style>\n",
       "<table border=\"1\" class=\"dataframe\">\n",
       "  <thead>\n",
       "    <tr style=\"text-align: right;\">\n",
       "      <th></th>\n",
       "      <th>etc</th>\n",
       "      <th>etc1</th>\n",
       "      <th>etc2</th>\n",
       "      <th>etc3</th>\n",
       "      <th>Temp</th>\n",
       "      <th>Humid</th>\n",
       "    </tr>\n",
       "    <tr>\n",
       "      <th>Datetime</th>\n",
       "      <th></th>\n",
       "      <th></th>\n",
       "      <th></th>\n",
       "      <th></th>\n",
       "      <th></th>\n",
       "      <th></th>\n",
       "    </tr>\n",
       "  </thead>\n",
       "  <tbody>\n",
       "    <tr>\n",
       "      <td>2020-03-18 17:22:02</td>\n",
       "      <td>075 INFO 2351 Temp=26.0C Humidity=36.0%</td>\n",
       "      <td>075</td>\n",
       "      <td>INFO</td>\n",
       "      <td>2351</td>\n",
       "      <td>Temp=26.0C</td>\n",
       "      <td>Humidity=36.0%</td>\n",
       "    </tr>\n",
       "    <tr>\n",
       "      <td>2020-03-18 17:22:14</td>\n",
       "      <td>143 INFO 2351 Temp=27.0C Humidity=39.0%</td>\n",
       "      <td>143</td>\n",
       "      <td>INFO</td>\n",
       "      <td>2351</td>\n",
       "      <td>Temp=27.0C</td>\n",
       "      <td>Humidity=39.0%</td>\n",
       "    </tr>\n",
       "    <tr>\n",
       "      <td>2020-03-18 17:23:29</td>\n",
       "      <td>299 INFO 2351 Temp=21.0C Humidity=39.0%</td>\n",
       "      <td>299</td>\n",
       "      <td>INFO</td>\n",
       "      <td>2351</td>\n",
       "      <td>Temp=21.0C</td>\n",
       "      <td>Humidity=39.0%</td>\n",
       "    </tr>\n",
       "    <tr>\n",
       "      <td>2020-03-18 17:23:30</td>\n",
       "      <td>299 INFO 2351 Temp=30.0C Humidity=40.0%</td>\n",
       "      <td>299</td>\n",
       "      <td>INFO</td>\n",
       "      <td>2351</td>\n",
       "      <td>Temp=30.0C</td>\n",
       "      <td>Humidity=40.0%</td>\n",
       "    </tr>\n",
       "    <tr>\n",
       "      <td>2020-03-18 17:23:31</td>\n",
       "      <td>299 INFO 2351 Temp=22.0C Humidity=15.0%</td>\n",
       "      <td>299</td>\n",
       "      <td>INFO</td>\n",
       "      <td>2351</td>\n",
       "      <td>Temp=22.0C</td>\n",
       "      <td>Humidity=15.0%</td>\n",
       "    </tr>\n",
       "    <tr>\n",
       "      <td>2020-03-18 17:24:32</td>\n",
       "      <td>299 INFO 2351 Temp=23.0C Humidity=19.0%</td>\n",
       "      <td>299</td>\n",
       "      <td>INFO</td>\n",
       "      <td>2351</td>\n",
       "      <td>Temp=23.0C</td>\n",
       "      <td>Humidity=19.0%</td>\n",
       "    </tr>\n",
       "    <tr>\n",
       "      <td>2020-03-18 17:24:33</td>\n",
       "      <td>299 INFO 2351 Temp=20.0C Humidity=26.0%</td>\n",
       "      <td>299</td>\n",
       "      <td>INFO</td>\n",
       "      <td>2351</td>\n",
       "      <td>Temp=20.0C</td>\n",
       "      <td>Humidity=26.0%</td>\n",
       "    </tr>\n",
       "    <tr>\n",
       "      <td>2020-03-18 17:24:34</td>\n",
       "      <td>299 INFO 2351 Temp=27.0C Humidity=30.0%</td>\n",
       "      <td>299</td>\n",
       "      <td>INFO</td>\n",
       "      <td>2351</td>\n",
       "      <td>Temp=27.0C</td>\n",
       "      <td>Humidity=30.0%</td>\n",
       "    </tr>\n",
       "  </tbody>\n",
       "</table>\n",
       "</div>"
      ],
      "text/plain": [
       "                                                         etc etc1  etc2  etc3  \\\n",
       "Datetime                                                                        \n",
       "2020-03-18 17:22:02  075 INFO 2351 Temp=26.0C Humidity=36.0%  075  INFO  2351   \n",
       "2020-03-18 17:22:14  143 INFO 2351 Temp=27.0C Humidity=39.0%  143  INFO  2351   \n",
       "2020-03-18 17:23:29  299 INFO 2351 Temp=21.0C Humidity=39.0%  299  INFO  2351   \n",
       "2020-03-18 17:23:30  299 INFO 2351 Temp=30.0C Humidity=40.0%  299  INFO  2351   \n",
       "2020-03-18 17:23:31  299 INFO 2351 Temp=22.0C Humidity=15.0%  299  INFO  2351   \n",
       "2020-03-18 17:24:32  299 INFO 2351 Temp=23.0C Humidity=19.0%  299  INFO  2351   \n",
       "2020-03-18 17:24:33  299 INFO 2351 Temp=20.0C Humidity=26.0%  299  INFO  2351   \n",
       "2020-03-18 17:24:34  299 INFO 2351 Temp=27.0C Humidity=30.0%  299  INFO  2351   \n",
       "\n",
       "                           Temp           Humid  \n",
       "Datetime                                         \n",
       "2020-03-18 17:22:02  Temp=26.0C  Humidity=36.0%  \n",
       "2020-03-18 17:22:14  Temp=27.0C  Humidity=39.0%  \n",
       "2020-03-18 17:23:29  Temp=21.0C  Humidity=39.0%  \n",
       "2020-03-18 17:23:30  Temp=30.0C  Humidity=40.0%  \n",
       "2020-03-18 17:23:31  Temp=22.0C  Humidity=15.0%  \n",
       "2020-03-18 17:24:32  Temp=23.0C  Humidity=19.0%  \n",
       "2020-03-18 17:24:33  Temp=20.0C  Humidity=26.0%  \n",
       "2020-03-18 17:24:34  Temp=27.0C  Humidity=30.0%  "
      ]
     },
     "execution_count": 145,
     "metadata": {},
     "output_type": "execute_result"
    }
   ],
   "source": [
    "df[['etc1', 'etc2', 'etc3', 'Temp', 'Humid']] = df['etc'].str.split(' ', n=5, expand=True)\n",
    "df"
   ]
  },
  {
   "cell_type": "code",
   "execution_count": 146,
   "metadata": {},
   "outputs": [],
   "source": [
    "del df['etc']"
   ]
  },
  {
   "cell_type": "code",
   "execution_count": 147,
   "metadata": {},
   "outputs": [],
   "source": [
    "del df['etc1']"
   ]
  },
  {
   "cell_type": "code",
   "execution_count": 148,
   "metadata": {},
   "outputs": [],
   "source": [
    "del df['etc2']"
   ]
  },
  {
   "cell_type": "code",
   "execution_count": 149,
   "metadata": {},
   "outputs": [],
   "source": [
    "del df['etc3']"
   ]
  },
  {
   "cell_type": "code",
   "execution_count": 150,
   "metadata": {},
   "outputs": [],
   "source": [
    "df['Temp'] = df['Temp'].str.slice(start=5, stop=-1)"
   ]
  },
  {
   "cell_type": "code",
   "execution_count": 151,
   "metadata": {
    "scrolled": true
   },
   "outputs": [],
   "source": [
    "df['Temp'] = df['Temp'].apply(pd.to_numeric)"
   ]
  },
  {
   "cell_type": "code",
   "execution_count": 152,
   "metadata": {},
   "outputs": [],
   "source": [
    "df['Humid'] = df['Humid'].str.slice(start=9, stop=-1)"
   ]
  },
  {
   "cell_type": "code",
   "execution_count": 153,
   "metadata": {
    "scrolled": true
   },
   "outputs": [],
   "source": [
    "df['Humid'] = df['Humid'].apply(pd.to_numeric)"
   ]
  },
  {
   "cell_type": "code",
   "execution_count": 154,
   "metadata": {
    "scrolled": false
   },
   "outputs": [
    {
     "name": "stdout",
     "output_type": "stream",
     "text": [
      "<class 'pandas.core.frame.DataFrame'>\n",
      "Index: 8 entries, 2020-03-18 17:22:02 to 2020-03-18 17:24:34\n",
      "Data columns (total 2 columns):\n",
      "Temp     8 non-null float64\n",
      "Humid    8 non-null float64\n",
      "dtypes: float64(2)\n",
      "memory usage: 192.0+ bytes\n"
     ]
    }
   ],
   "source": [
    "df.info()"
   ]
  },
  {
   "cell_type": "code",
   "execution_count": 155,
   "metadata": {},
   "outputs": [],
   "source": [
    "df.index = pd.to_datetime(df.index)"
   ]
  },
  {
   "cell_type": "code",
   "execution_count": 156,
   "metadata": {},
   "outputs": [
    {
     "name": "stdout",
     "output_type": "stream",
     "text": [
      "<class 'pandas.core.frame.DataFrame'>\n",
      "DatetimeIndex: 8 entries, 2020-03-18 17:22:02 to 2020-03-18 17:24:34\n",
      "Data columns (total 2 columns):\n",
      "Temp     8 non-null float64\n",
      "Humid    8 non-null float64\n",
      "dtypes: float64(2)\n",
      "memory usage: 192.0 bytes\n"
     ]
    }
   ],
   "source": [
    "df.info()"
   ]
  },
  {
   "cell_type": "code",
   "execution_count": 157,
   "metadata": {},
   "outputs": [
    {
     "data": {
      "text/html": [
       "<div>\n",
       "<style scoped>\n",
       "    .dataframe tbody tr th:only-of-type {\n",
       "        vertical-align: middle;\n",
       "    }\n",
       "\n",
       "    .dataframe tbody tr th {\n",
       "        vertical-align: top;\n",
       "    }\n",
       "\n",
       "    .dataframe thead th {\n",
       "        text-align: right;\n",
       "    }\n",
       "</style>\n",
       "<table border=\"1\" class=\"dataframe\">\n",
       "  <thead>\n",
       "    <tr style=\"text-align: right;\">\n",
       "      <th></th>\n",
       "      <th>Temp</th>\n",
       "      <th>Humid</th>\n",
       "    </tr>\n",
       "    <tr>\n",
       "      <th>Datetime</th>\n",
       "      <th></th>\n",
       "      <th></th>\n",
       "    </tr>\n",
       "  </thead>\n",
       "  <tbody>\n",
       "    <tr>\n",
       "      <td>2020-03-18 17:22:02</td>\n",
       "      <td>26.0</td>\n",
       "      <td>36.0</td>\n",
       "    </tr>\n",
       "    <tr>\n",
       "      <td>2020-03-18 17:22:14</td>\n",
       "      <td>27.0</td>\n",
       "      <td>39.0</td>\n",
       "    </tr>\n",
       "    <tr>\n",
       "      <td>2020-03-18 17:23:29</td>\n",
       "      <td>21.0</td>\n",
       "      <td>39.0</td>\n",
       "    </tr>\n",
       "    <tr>\n",
       "      <td>2020-03-18 17:23:30</td>\n",
       "      <td>30.0</td>\n",
       "      <td>40.0</td>\n",
       "    </tr>\n",
       "    <tr>\n",
       "      <td>2020-03-18 17:23:31</td>\n",
       "      <td>22.0</td>\n",
       "      <td>15.0</td>\n",
       "    </tr>\n",
       "    <tr>\n",
       "      <td>2020-03-18 17:24:32</td>\n",
       "      <td>23.0</td>\n",
       "      <td>19.0</td>\n",
       "    </tr>\n",
       "    <tr>\n",
       "      <td>2020-03-18 17:24:33</td>\n",
       "      <td>20.0</td>\n",
       "      <td>26.0</td>\n",
       "    </tr>\n",
       "    <tr>\n",
       "      <td>2020-03-18 17:24:34</td>\n",
       "      <td>27.0</td>\n",
       "      <td>30.0</td>\n",
       "    </tr>\n",
       "  </tbody>\n",
       "</table>\n",
       "</div>"
      ],
      "text/plain": [
       "                     Temp  Humid\n",
       "Datetime                        \n",
       "2020-03-18 17:22:02  26.0   36.0\n",
       "2020-03-18 17:22:14  27.0   39.0\n",
       "2020-03-18 17:23:29  21.0   39.0\n",
       "2020-03-18 17:23:30  30.0   40.0\n",
       "2020-03-18 17:23:31  22.0   15.0\n",
       "2020-03-18 17:24:32  23.0   19.0\n",
       "2020-03-18 17:24:33  20.0   26.0\n",
       "2020-03-18 17:24:34  27.0   30.0"
      ]
     },
     "execution_count": 157,
     "metadata": {},
     "output_type": "execute_result"
    }
   ],
   "source": [
    "df"
   ]
  },
  {
   "cell_type": "code",
   "execution_count": 159,
   "metadata": {
    "scrolled": true
   },
   "outputs": [
    {
     "data": {
      "text/plain": [
       "<matplotlib.axes._subplots.AxesSubplot at 0x25502144a08>"
      ]
     },
     "execution_count": 159,
     "metadata": {},
     "output_type": "execute_result"
    },
    {
     "data": {
      "image/png": "[encoded data removed]",
      "text/plain": [
       "<Figure size 432x288 with 1 Axes>"
      ]
     },
     "metadata": {
      "needs_background": "light"
     },
     "output_type": "display_data"
    }
   ],
   "source": [
    "df.resample('M').mean().plot(kind='bar')"
   ]
  },
  {
   "cell_type": "code",
   "execution_count": 163,
   "metadata": {},
   "outputs": [
    {
     "data": {
      "text/plain": [
       "Datetime\n",
       "2020-03-18 17:22:00    AxesSubplot(0.125,0.125;0.775x0.755)\n",
       "2020-03-18 17:23:00    AxesSubplot(0.125,0.125;0.775x0.755)\n",
       "2020-03-18 17:24:00    AxesSubplot(0.125,0.125;0.775x0.755)\n",
       "dtype: object"
      ]
     },
     "execution_count": 163,
     "metadata": {},
     "output_type": "execute_result"
    },
    {
     "data": {
      "image/png": "[encoded data removed]",
      "text/plain": [
       "<Figure size 432x288 with 1 Axes>"
      ]
     },
     "metadata": {
      "needs_background": "light"
     },
     "output_type": "display_data"
    }
   ],
   "source": [
    "df['Temp'].resample('min').plot(kind='bar')"
   ]
  },
  {
   "cell_type": "code",
   "execution_count": null,
   "metadata": {},
   "outputs": [],
   "source": []
  }
 ],
 "metadata": {
  "kernelspec": {
   "display_name": "Python 3",
   "language": "python",
   "name": "python3"
  },
  "language_info": {
   "codemirror_mode": {
    "name": "ipython",
    "version": 3
   },
   "file_extension": ".py",
   "mimetype": "text/x-python",
   "name": "python",
   "nbconvert_exporter": "python",
   "pygments_lexer": "ipython3",
   "version": "3.7.4"
  }
 },
 "nbformat": 4,
 "nbformat_minor": 2
}
